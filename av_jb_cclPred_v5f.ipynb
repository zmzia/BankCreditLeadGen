{
 "cells": [
  {
   "cell_type": "markdown",
   "metadata": {},
   "source": [
    "## Problem Statement"
   ]
  },
  {
   "cell_type": "markdown",
   "metadata": {},
   "source": [
    "Credit Card Lead Prediction\n",
    "\n",
    "Happy Customer Bank is a mid-sized private bank that deals in all kinds of banking products, like Savings accounts, Current accounts, investment products, credit products, among other offerings.\n",
    "\n",
    "The bank also cross-sells products to its existing customers and to do so they use different kinds of communication like tele-calling, e-mails, recommendations on net banking, mobile banking, etc. \n",
    "\n",
    "In this case, the Happy Customer Bank wants to cross sell its credit cards to its existing customers. The bank has identified a set of customers that are eligible for taking these credit cards.\n",
    "\n",
    "Now, the bank is looking for your help in identifying customers that could show higher intent towards a recommended credit card, given:\n",
    "\n",
    "Customer details (gender, age, region etc.)\n",
    "Details of his/her relationship with the bank (Channel_Code,Vintage, 'Avg_Asset_Value etc.)"
   ]
  },
  {
   "cell_type": "markdown",
   "metadata": {},
   "source": [
    "#### Import the Libraries"
   ]
  },
  {
   "cell_type": "code",
   "execution_count": 1,
   "metadata": {},
   "outputs": [],
   "source": [
    "import pandas as pd\n",
    "import numpy as np\n",
    "import matplotlib.pyplot as plt\n",
    "import seaborn as sns\n",
    "\n",
    "from sklearn.preprocessing import LabelEncoder\n",
    "from sklearn.model_selection import train_test_split, cross_val_score\n",
    "from sklearn.linear_model import LogisticRegression\n",
    "from sklearn.metrics import confusion_matrix, accuracy_score, classification_report, f1_score, roc_auc_score\n",
    "\n",
    "import warnings\n",
    "warnings.filterwarnings('always')\n",
    "warnings.filterwarnings('ignore')"
   ]
  },
  {
   "cell_type": "markdown",
   "metadata": {},
   "source": [
    "#### Inspect the data"
   ]
  },
  {
   "cell_type": "code",
   "execution_count": 2,
   "metadata": {},
   "outputs": [],
   "source": [
    "train = pd.read_csv(\"train_s3TEQDk.csv\")\n",
    "test = pd.read_csv(\"test_mSzZ8RL.csv\")"
   ]
  },
  {
   "cell_type": "code",
   "execution_count": 3,
   "metadata": {},
   "outputs": [
    {
     "data": {
      "text/plain": [
       "((245725, 11), (105312, 10))"
      ]
     },
     "execution_count": 3,
     "metadata": {},
     "output_type": "execute_result"
    }
   ],
   "source": [
    "train.shape, test.shape"
   ]
  },
  {
   "cell_type": "markdown",
   "metadata": {},
   "source": [
    "   ###### -> We have 245725 rows and 11 columns in Train set whereas Test set has 105312 rows and 10 columns."
   ]
  },
  {
   "cell_type": "code",
   "execution_count": 4,
   "metadata": {},
   "outputs": [
    {
     "data": {
      "text/plain": [
       "(ID                     245725\n",
       " Gender                      2\n",
       " Age                        63\n",
       " Region_Code                35\n",
       " Occupation                  4\n",
       " Channel_Code                4\n",
       " Vintage                    66\n",
       " Credit_Product              2\n",
       " Avg_Account_Balance    135292\n",
       " Is_Active                   2\n",
       " Is_Lead                     2\n",
       " dtype: int64,\n",
       " ID                     105312\n",
       " Gender                      2\n",
       " Age                        62\n",
       " Region_Code                35\n",
       " Occupation                  4\n",
       " Channel_Code                4\n",
       " Vintage                    66\n",
       " Credit_Product              2\n",
       " Avg_Account_Balance     78315\n",
       " Is_Active                   2\n",
       " dtype: int64)"
      ]
     },
     "execution_count": 4,
     "metadata": {},
     "output_type": "execute_result"
    }
   ],
   "source": [
    "train.nunique(), test.nunique()"
   ]
  },
  {
   "cell_type": "code",
   "execution_count": 5,
   "metadata": {},
   "outputs": [
    {
     "data": {
      "text/plain": [
       "ID                         0\n",
       "Gender                     0\n",
       "Age                        0\n",
       "Region_Code                0\n",
       "Occupation                 0\n",
       "Channel_Code               0\n",
       "Vintage                    0\n",
       "Credit_Product         29325\n",
       "Avg_Account_Balance        0\n",
       "Is_Active                  0\n",
       "Is_Lead                    0\n",
       "dtype: int64"
      ]
     },
     "execution_count": 5,
     "metadata": {},
     "output_type": "execute_result"
    }
   ],
   "source": [
    "#ratio of null values\n",
    "train.isnull().sum()"
   ]
  },
  {
   "cell_type": "code",
   "execution_count": 6,
   "metadata": {},
   "outputs": [
    {
     "data": {
      "text/plain": [
       "ID                      0.000000\n",
       "Gender                  0.000000\n",
       "Age                     0.000000\n",
       "Region_Code             0.000000\n",
       "Occupation              0.000000\n",
       "Channel_Code            0.000000\n",
       "Vintage                 0.000000\n",
       "Credit_Product         11.934073\n",
       "Avg_Account_Balance     0.000000\n",
       "Is_Active               0.000000\n",
       "Is_Lead                 0.000000\n",
       "dtype: float64"
      ]
     },
     "execution_count": 6,
     "metadata": {},
     "output_type": "execute_result"
    }
   ],
   "source": [
    "train.isnull().sum()/train.shape[0] *100"
   ]
  },
  {
   "cell_type": "code",
   "execution_count": 7,
   "metadata": {},
   "outputs": [
    {
     "data": {
      "text/plain": [
       "ID                         0\n",
       "Gender                     0\n",
       "Age                        0\n",
       "Region_Code                0\n",
       "Occupation                 0\n",
       "Channel_Code               0\n",
       "Vintage                    0\n",
       "Credit_Product         12522\n",
       "Avg_Account_Balance        0\n",
       "Is_Active                  0\n",
       "dtype: int64"
      ]
     },
     "execution_count": 7,
     "metadata": {},
     "output_type": "execute_result"
    }
   ],
   "source": [
    "test.isnull().sum()"
   ]
  },
  {
   "cell_type": "code",
   "execution_count": 8,
   "metadata": {},
   "outputs": [
    {
     "data": {
      "text/plain": [
       "ID                      0.000000\n",
       "Gender                  0.000000\n",
       "Age                     0.000000\n",
       "Region_Code             0.000000\n",
       "Occupation              0.000000\n",
       "Channel_Code            0.000000\n",
       "Vintage                 0.000000\n",
       "Credit_Product         11.890383\n",
       "Avg_Account_Balance     0.000000\n",
       "Is_Active               0.000000\n",
       "dtype: float64"
      ]
     },
     "execution_count": 8,
     "metadata": {},
     "output_type": "execute_result"
    }
   ],
   "source": [
    "test.isnull().sum()/test.shape[0] *100"
   ]
  },
  {
   "cell_type": "markdown",
   "metadata": {},
   "source": [
    "######    -> We have 12% of missing values in Credit_Product column."
   ]
  },
  {
   "cell_type": "code",
   "execution_count": 9,
   "metadata": {},
   "outputs": [
    {
     "name": "stdout",
     "output_type": "stream",
     "text": [
      "Categorical Features in Train Set: 7\n",
      "Numerical Features in Train Set: 4\n"
     ]
    }
   ],
   "source": [
    "#categorical features\n",
    "categorical = train.select_dtypes(include =[np.object])\n",
    "print(\"Categorical Features in Train Set:\",categorical.shape[1])\n",
    "\n",
    "#numerical features\n",
    "numerical= train.select_dtypes(include =[np.float64,np.int64])\n",
    "print(\"Numerical Features in Train Set:\",numerical.shape[1])"
   ]
  },
  {
   "cell_type": "code",
   "execution_count": 10,
   "metadata": {},
   "outputs": [
    {
     "name": "stdout",
     "output_type": "stream",
     "text": [
      "Categorical Features in Test Set: 7\n",
      "Numerical Features in Test Set: 3\n"
     ]
    }
   ],
   "source": [
    "#categorical features\n",
    "categorical = test.select_dtypes(include =[np.object])\n",
    "print(\"Categorical Features in Test Set:\",categorical.shape[1])\n",
    "\n",
    "#numerical features\n",
    "numerical= test.select_dtypes(include =[np.float64,np.int64])\n",
    "print(\"Numerical Features in Test Set:\",numerical.shape[1])"
   ]
  },
  {
   "cell_type": "code",
   "execution_count": 11,
   "metadata": {},
   "outputs": [
    {
     "data": {
      "text/plain": [
       "Index(['Is_Lead'], dtype='object')"
      ]
     },
     "execution_count": 11,
     "metadata": {},
     "output_type": "execute_result"
    }
   ],
   "source": [
    "train.columns.difference(test.columns)"
   ]
  },
  {
   "cell_type": "code",
   "execution_count": 12,
   "metadata": {},
   "outputs": [
    {
     "data": {
      "text/html": [
       "<div>\n",
       "<style scoped>\n",
       "    .dataframe tbody tr th:only-of-type {\n",
       "        vertical-align: middle;\n",
       "    }\n",
       "\n",
       "    .dataframe tbody tr th {\n",
       "        vertical-align: top;\n",
       "    }\n",
       "\n",
       "    .dataframe thead th {\n",
       "        text-align: right;\n",
       "    }\n",
       "</style>\n",
       "<table border=\"1\" class=\"dataframe\">\n",
       "  <thead>\n",
       "    <tr style=\"text-align: right;\">\n",
       "      <th></th>\n",
       "      <th>ID</th>\n",
       "      <th>Gender</th>\n",
       "      <th>Age</th>\n",
       "      <th>Region_Code</th>\n",
       "      <th>Occupation</th>\n",
       "      <th>Channel_Code</th>\n",
       "      <th>Vintage</th>\n",
       "      <th>Credit_Product</th>\n",
       "      <th>Avg_Account_Balance</th>\n",
       "      <th>Is_Active</th>\n",
       "      <th>Is_Lead</th>\n",
       "    </tr>\n",
       "  </thead>\n",
       "  <tbody>\n",
       "    <tr>\n",
       "      <th>0</th>\n",
       "      <td>NNVBBKZB</td>\n",
       "      <td>Female</td>\n",
       "      <td>73</td>\n",
       "      <td>RG268</td>\n",
       "      <td>Other</td>\n",
       "      <td>X3</td>\n",
       "      <td>43</td>\n",
       "      <td>No</td>\n",
       "      <td>1045696</td>\n",
       "      <td>No</td>\n",
       "      <td>0</td>\n",
       "    </tr>\n",
       "    <tr>\n",
       "      <th>1</th>\n",
       "      <td>IDD62UNG</td>\n",
       "      <td>Female</td>\n",
       "      <td>30</td>\n",
       "      <td>RG277</td>\n",
       "      <td>Salaried</td>\n",
       "      <td>X1</td>\n",
       "      <td>32</td>\n",
       "      <td>No</td>\n",
       "      <td>581988</td>\n",
       "      <td>No</td>\n",
       "      <td>0</td>\n",
       "    </tr>\n",
       "    <tr>\n",
       "      <th>2</th>\n",
       "      <td>HD3DSEMC</td>\n",
       "      <td>Female</td>\n",
       "      <td>56</td>\n",
       "      <td>RG268</td>\n",
       "      <td>Self_Employed</td>\n",
       "      <td>X3</td>\n",
       "      <td>26</td>\n",
       "      <td>No</td>\n",
       "      <td>1484315</td>\n",
       "      <td>Yes</td>\n",
       "      <td>0</td>\n",
       "    </tr>\n",
       "    <tr>\n",
       "      <th>3</th>\n",
       "      <td>BF3NC7KV</td>\n",
       "      <td>Male</td>\n",
       "      <td>34</td>\n",
       "      <td>RG270</td>\n",
       "      <td>Salaried</td>\n",
       "      <td>X1</td>\n",
       "      <td>19</td>\n",
       "      <td>No</td>\n",
       "      <td>470454</td>\n",
       "      <td>No</td>\n",
       "      <td>0</td>\n",
       "    </tr>\n",
       "    <tr>\n",
       "      <th>4</th>\n",
       "      <td>TEASRWXV</td>\n",
       "      <td>Female</td>\n",
       "      <td>30</td>\n",
       "      <td>RG282</td>\n",
       "      <td>Salaried</td>\n",
       "      <td>X1</td>\n",
       "      <td>33</td>\n",
       "      <td>No</td>\n",
       "      <td>886787</td>\n",
       "      <td>No</td>\n",
       "      <td>0</td>\n",
       "    </tr>\n",
       "  </tbody>\n",
       "</table>\n",
       "</div>"
      ],
      "text/plain": [
       "         ID  Gender  Age Region_Code     Occupation Channel_Code  Vintage  \\\n",
       "0  NNVBBKZB  Female   73       RG268          Other           X3       43   \n",
       "1  IDD62UNG  Female   30       RG277       Salaried           X1       32   \n",
       "2  HD3DSEMC  Female   56       RG268  Self_Employed           X3       26   \n",
       "3  BF3NC7KV    Male   34       RG270       Salaried           X1       19   \n",
       "4  TEASRWXV  Female   30       RG282       Salaried           X1       33   \n",
       "\n",
       "  Credit_Product  Avg_Account_Balance Is_Active  Is_Lead  \n",
       "0             No              1045696        No        0  \n",
       "1             No               581988        No        0  \n",
       "2             No              1484315       Yes        0  \n",
       "3             No               470454        No        0  \n",
       "4             No               886787        No        0  "
      ]
     },
     "execution_count": 12,
     "metadata": {},
     "output_type": "execute_result"
    }
   ],
   "source": [
    "train.head()"
   ]
  },
  {
   "cell_type": "code",
   "execution_count": 13,
   "metadata": {},
   "outputs": [
    {
     "data": {
      "text/html": [
       "<div>\n",
       "<style scoped>\n",
       "    .dataframe tbody tr th:only-of-type {\n",
       "        vertical-align: middle;\n",
       "    }\n",
       "\n",
       "    .dataframe tbody tr th {\n",
       "        vertical-align: top;\n",
       "    }\n",
       "\n",
       "    .dataframe thead th {\n",
       "        text-align: right;\n",
       "    }\n",
       "</style>\n",
       "<table border=\"1\" class=\"dataframe\">\n",
       "  <thead>\n",
       "    <tr style=\"text-align: right;\">\n",
       "      <th></th>\n",
       "      <th>ID</th>\n",
       "      <th>Gender</th>\n",
       "      <th>Age</th>\n",
       "      <th>Region_Code</th>\n",
       "      <th>Occupation</th>\n",
       "      <th>Channel_Code</th>\n",
       "      <th>Vintage</th>\n",
       "      <th>Credit_Product</th>\n",
       "      <th>Avg_Account_Balance</th>\n",
       "      <th>Is_Active</th>\n",
       "    </tr>\n",
       "  </thead>\n",
       "  <tbody>\n",
       "    <tr>\n",
       "      <th>0</th>\n",
       "      <td>VBENBARO</td>\n",
       "      <td>Male</td>\n",
       "      <td>29</td>\n",
       "      <td>RG254</td>\n",
       "      <td>Other</td>\n",
       "      <td>X1</td>\n",
       "      <td>25</td>\n",
       "      <td>Yes</td>\n",
       "      <td>742366</td>\n",
       "      <td>No</td>\n",
       "    </tr>\n",
       "    <tr>\n",
       "      <th>1</th>\n",
       "      <td>CCMEWNKY</td>\n",
       "      <td>Male</td>\n",
       "      <td>43</td>\n",
       "      <td>RG268</td>\n",
       "      <td>Other</td>\n",
       "      <td>X2</td>\n",
       "      <td>49</td>\n",
       "      <td>NaN</td>\n",
       "      <td>925537</td>\n",
       "      <td>No</td>\n",
       "    </tr>\n",
       "    <tr>\n",
       "      <th>2</th>\n",
       "      <td>VK3KGA9M</td>\n",
       "      <td>Male</td>\n",
       "      <td>31</td>\n",
       "      <td>RG270</td>\n",
       "      <td>Salaried</td>\n",
       "      <td>X1</td>\n",
       "      <td>14</td>\n",
       "      <td>No</td>\n",
       "      <td>215949</td>\n",
       "      <td>No</td>\n",
       "    </tr>\n",
       "    <tr>\n",
       "      <th>3</th>\n",
       "      <td>TT8RPZVC</td>\n",
       "      <td>Male</td>\n",
       "      <td>29</td>\n",
       "      <td>RG272</td>\n",
       "      <td>Other</td>\n",
       "      <td>X1</td>\n",
       "      <td>33</td>\n",
       "      <td>No</td>\n",
       "      <td>868070</td>\n",
       "      <td>No</td>\n",
       "    </tr>\n",
       "    <tr>\n",
       "      <th>4</th>\n",
       "      <td>SHQZEYTZ</td>\n",
       "      <td>Female</td>\n",
       "      <td>29</td>\n",
       "      <td>RG270</td>\n",
       "      <td>Other</td>\n",
       "      <td>X1</td>\n",
       "      <td>19</td>\n",
       "      <td>No</td>\n",
       "      <td>657087</td>\n",
       "      <td>No</td>\n",
       "    </tr>\n",
       "  </tbody>\n",
       "</table>\n",
       "</div>"
      ],
      "text/plain": [
       "         ID  Gender  Age Region_Code Occupation Channel_Code  Vintage  \\\n",
       "0  VBENBARO    Male   29       RG254      Other           X1       25   \n",
       "1  CCMEWNKY    Male   43       RG268      Other           X2       49   \n",
       "2  VK3KGA9M    Male   31       RG270   Salaried           X1       14   \n",
       "3  TT8RPZVC    Male   29       RG272      Other           X1       33   \n",
       "4  SHQZEYTZ  Female   29       RG270      Other           X1       19   \n",
       "\n",
       "  Credit_Product  Avg_Account_Balance Is_Active  \n",
       "0            Yes               742366        No  \n",
       "1            NaN               925537        No  \n",
       "2             No               215949        No  \n",
       "3             No               868070        No  \n",
       "4             No               657087        No  "
      ]
     },
     "execution_count": 13,
     "metadata": {},
     "output_type": "execute_result"
    }
   ],
   "source": [
    " test.head()"
   ]
  },
  {
   "cell_type": "markdown",
   "metadata": {},
   "source": [
    "#### Clean the data"
   ]
  },
  {
   "cell_type": "code",
   "execution_count": 14,
   "metadata": {},
   "outputs": [],
   "source": [
    "train[\"source\"] = \"train\"\n",
    "test[\"source\"] = \"test\"\n",
    "\n",
    "data = pd.concat([train,test])"
   ]
  },
  {
   "cell_type": "code",
   "execution_count": 15,
   "metadata": {},
   "outputs": [
    {
     "data": {
      "text/plain": [
       "(351037, 12)"
      ]
     },
     "execution_count": 15,
     "metadata": {},
     "output_type": "execute_result"
    }
   ],
   "source": [
    "data.shape"
   ]
  },
  {
   "cell_type": "code",
   "execution_count": 16,
   "metadata": {},
   "outputs": [],
   "source": [
    "data.drop_duplicates(inplace=True)"
   ]
  },
  {
   "cell_type": "code",
   "execution_count": 17,
   "metadata": {},
   "outputs": [
    {
     "data": {
      "text/plain": [
       "(351037, 12)"
      ]
     },
     "execution_count": 17,
     "metadata": {},
     "output_type": "execute_result"
    }
   ],
   "source": [
    "data.shape"
   ]
  },
  {
   "cell_type": "code",
   "execution_count": 18,
   "metadata": {},
   "outputs": [
    {
     "data": {
      "text/plain": [
       "(41847,\n",
       " No     205965\n",
       " Yes    103225\n",
       " Name: Credit_Product, dtype: int64)"
      ]
     },
     "execution_count": 18,
     "metadata": {},
     "output_type": "execute_result"
    }
   ],
   "source": [
    "data['Credit_Product'].isnull().sum(), data['Credit_Product'].value_counts()"
   ]
  },
  {
   "cell_type": "markdown",
   "metadata": {},
   "source": [
    "###### -> Since the Credit_Product is a categorical column, imputing the missing values by \"Yes\""
   ]
  },
  {
   "cell_type": "code",
   "execution_count": 19,
   "metadata": {},
   "outputs": [],
   "source": [
    "#data['Credit_Product'] = data['Credit_Product'].fillna(data['Credit_Product'].mode()[0])\n",
    "data['Credit_Product'] = data['Credit_Product'].fillna(\"Yes\")"
   ]
  },
  {
   "cell_type": "code",
   "execution_count": 20,
   "metadata": {},
   "outputs": [
    {
     "data": {
      "text/plain": [
       "(0,\n",
       " No     205965\n",
       " Yes    145072\n",
       " Name: Credit_Product, dtype: int64)"
      ]
     },
     "execution_count": 20,
     "metadata": {},
     "output_type": "execute_result"
    }
   ],
   "source": [
    "data['Credit_Product'].isnull().sum(), data['Credit_Product'].value_counts()"
   ]
  },
  {
   "cell_type": "code",
   "execution_count": 21,
   "metadata": {},
   "outputs": [
    {
     "data": {
      "text/plain": [
       "ID                          0\n",
       "Gender                      0\n",
       "Age                         0\n",
       "Region_Code                 0\n",
       "Occupation                  0\n",
       "Channel_Code                0\n",
       "Vintage                     0\n",
       "Credit_Product              0\n",
       "Avg_Account_Balance         0\n",
       "Is_Active                   0\n",
       "Is_Lead                105312\n",
       "source                      0\n",
       "dtype: int64"
      ]
     },
     "execution_count": 21,
     "metadata": {},
     "output_type": "execute_result"
    }
   ],
   "source": [
    "data.isnull().sum()"
   ]
  },
  {
   "cell_type": "markdown",
   "metadata": {},
   "source": [
    "#### EDA"
   ]
  },
  {
   "cell_type": "code",
   "execution_count": 22,
   "metadata": {},
   "outputs": [
    {
     "data": {
      "text/plain": [
       "ID                     351037\n",
       "Gender                      2\n",
       "Age                        63\n",
       "Region_Code                35\n",
       "Occupation                  4\n",
       "Channel_Code                4\n",
       "Vintage                    66\n",
       "Credit_Product              2\n",
       "Avg_Account_Balance    162137\n",
       "Is_Active                   2\n",
       "Is_Lead                     2\n",
       "source                      2\n",
       "dtype: int64"
      ]
     },
     "execution_count": 22,
     "metadata": {},
     "output_type": "execute_result"
    }
   ],
   "source": [
    "data.nunique()"
   ]
  },
  {
   "cell_type": "code",
   "execution_count": 23,
   "metadata": {},
   "outputs": [
    {
     "data": {
      "text/plain": [
       "Male      191902\n",
       "Female    159135\n",
       "Name: Gender, dtype: int64"
      ]
     },
     "execution_count": 23,
     "metadata": {},
     "output_type": "execute_result"
    }
   ],
   "source": [
    "data[\"Gender\"].value_counts()"
   ]
  },
  {
   "cell_type": "code",
   "execution_count": 24,
   "metadata": {},
   "outputs": [
    {
     "data": {
      "text/plain": [
       "Self_Employed    144078\n",
       "Salaried         102912\n",
       "Other            100304\n",
       "Entrepreneur       3743\n",
       "Name: Occupation, dtype: int64"
      ]
     },
     "execution_count": 24,
     "metadata": {},
     "output_type": "execute_result"
    }
   ],
   "source": [
    "data[\"Occupation\"].value_counts()"
   ]
  },
  {
   "cell_type": "code",
   "execution_count": 25,
   "metadata": {},
   "outputs": [
    {
     "data": {
      "text/plain": [
       "X1    148202\n",
       "X3     97981\n",
       "X2     96902\n",
       "X4      7952\n",
       "Name: Channel_Code, dtype: int64"
      ]
     },
     "execution_count": 25,
     "metadata": {},
     "output_type": "execute_result"
    }
   ],
   "source": [
    "data[\"Channel_Code\"].value_counts()"
   ]
  },
  {
   "cell_type": "code",
   "execution_count": 26,
   "metadata": {},
   "outputs": [
    {
     "data": {
      "text/plain": [
       "No     205965\n",
       "Yes    145072\n",
       "Name: Credit_Product, dtype: int64"
      ]
     },
     "execution_count": 26,
     "metadata": {},
     "output_type": "execute_result"
    }
   ],
   "source": [
    "data[\"Credit_Product\"].value_counts()"
   ]
  },
  {
   "cell_type": "code",
   "execution_count": 27,
   "metadata": {},
   "outputs": [
    {
     "data": {
      "text/plain": [
       "No     214087\n",
       "Yes    136950\n",
       "Name: Is_Active, dtype: int64"
      ]
     },
     "execution_count": 27,
     "metadata": {},
     "output_type": "execute_result"
    }
   ],
   "source": [
    "data[\"Is_Active\"].value_counts()"
   ]
  },
  {
   "cell_type": "code",
   "execution_count": 28,
   "metadata": {},
   "outputs": [
    {
     "data": {
      "text/plain": [
       "0.0    187437\n",
       "1.0     58288\n",
       "Name: Is_Lead, dtype: int64"
      ]
     },
     "execution_count": 28,
     "metadata": {},
     "output_type": "execute_result"
    }
   ],
   "source": [
    "data[\"Is_Lead\"].value_counts()"
   ]
  },
  {
   "cell_type": "code",
   "execution_count": 29,
   "metadata": {},
   "outputs": [],
   "source": [
    "data.set_index('ID',inplace=True)"
   ]
  },
  {
   "cell_type": "code",
   "execution_count": 30,
   "metadata": {},
   "outputs": [
    {
     "data": {
      "text/plain": [
       "<AxesSubplot:xlabel='Gender', ylabel='count'>"
      ]
     },
     "execution_count": 30,
     "metadata": {},
     "output_type": "execute_result"
    },
    {
     "data": {
      "image/png": "[encoded data removed]",
      "text/plain": [
       "<Figure size 576x360 with 1 Axes>"
      ]
     },
     "metadata": {
      "needs_background": "light"
     },
     "output_type": "display_data"
    }
   ],
   "source": [
    "plt.figure(figsize=(8,5))\n",
    "sns.countplot('Gender',data=train,palette='autumn')"
   ]
  },
  {
   "cell_type": "markdown",
   "metadata": {},
   "source": [
    "###### -> Male customers are more than the Female customers"
   ]
  },
  {
   "cell_type": "code",
   "execution_count": 31,
   "metadata": {},
   "outputs": [
    {
     "data": {
      "text/plain": [
       "<AxesSubplot:ylabel='Frequency'>"
      ]
     },
     "execution_count": 31,
     "metadata": {},
     "output_type": "execute_result"
    },
    {
     "data": {
      "image/png": "[encoded data removed]",
      "text/plain": [
       "<Figure size 432x288 with 1 Axes>"
      ]
     },
     "metadata": {
      "needs_background": "light"
     },
     "output_type": "display_data"
    }
   ],
   "source": [
    "train[\"Age\"].plot(kind=\"hist\")"
   ]
  },
  {
   "cell_type": "markdown",
   "metadata": {},
   "source": [
    "###### -> No customers below the age 23 and above the age 85"
   ]
  },
  {
   "cell_type": "code",
   "execution_count": 32,
   "metadata": {},
   "outputs": [
    {
     "data": {
      "text/plain": [
       "count    245725.000000\n",
       "mean         43.856307\n",
       "std          14.828672\n",
       "min          23.000000\n",
       "25%          30.000000\n",
       "50%          43.000000\n",
       "75%          54.000000\n",
       "max          85.000000\n",
       "Name: Age, dtype: float64"
      ]
     },
     "execution_count": 32,
     "metadata": {},
     "output_type": "execute_result"
    }
   ],
   "source": [
    "train[\"Age\"].describe()"
   ]
  },
  {
   "cell_type": "code",
   "execution_count": 33,
   "metadata": {},
   "outputs": [
    {
     "data": {
      "text/plain": [
       "<AxesSubplot:xlabel='Region_Code', ylabel='count'>"
      ]
     },
     "execution_count": 33,
     "metadata": {},
     "output_type": "execute_result"
    },
    {
     "data": {
      "image/png": "[encoded data removed]",
      "text/plain": [
       "<Figure size 1800x720 with 1 Axes>"
      ]
     },
     "metadata": {
      "needs_background": "light"
     },
     "output_type": "display_data"
    }
   ],
   "source": [
    "plt.figure(figsize=(25,10))\n",
    "sns.countplot('Region_Code',data=train,palette='summer')"
   ]
  },
  {
   "cell_type": "markdown",
   "metadata": {},
   "source": [
    "###### -> Customers from the region RG268 are high in numbers"
   ]
  },
  {
   "cell_type": "code",
   "execution_count": 34,
   "metadata": {},
   "outputs": [
    {
     "data": {
      "text/plain": [
       "<AxesSubplot:xlabel='Occupation', ylabel='count'>"
      ]
     },
     "execution_count": 34,
     "metadata": {},
     "output_type": "execute_result"
    },
    {
     "data": {
      "image/png": "[encoded data removed]",
      "text/plain": [
       "<Figure size 576x360 with 1 Axes>"
      ]
     },
     "metadata": {
      "needs_background": "light"
     },
     "output_type": "display_data"
    }
   ],
   "source": [
    "plt.figure(figsize=(8,5))\n",
    "sns.countplot('Occupation',data=train,palette='winter')"
   ]
  },
  {
   "cell_type": "markdown",
   "metadata": {},
   "source": [
    "###### -> Self employed Customers are high and Entrepreneur are the lowest"
   ]
  },
  {
   "cell_type": "code",
   "execution_count": 35,
   "metadata": {},
   "outputs": [
    {
     "data": {
      "text/plain": [
       "<AxesSubplot:xlabel='Channel_Code', ylabel='count'>"
      ]
     },
     "execution_count": 35,
     "metadata": {},
     "output_type": "execute_result"
    },
    {
     "data": {
      "image/png": "[encoded data removed]",
      "text/plain": [
       "<Figure size 576x360 with 1 Axes>"
      ]
     },
     "metadata": {
      "needs_background": "light"
     },
     "output_type": "display_data"
    }
   ],
   "source": [
    "plt.figure(figsize=(8,5))\n",
    "sns.countplot('Channel_Code',data=train,palette='magma')"
   ]
  },
  {
   "cell_type": "markdown",
   "metadata": {},
   "source": [
    "###### -> X1 Channel has most customers and X4 has the lowest"
   ]
  },
  {
   "cell_type": "code",
   "execution_count": 36,
   "metadata": {},
   "outputs": [
    {
     "data": {
      "text/plain": [
       "<AxesSubplot:ylabel='Frequency'>"
      ]
     },
     "execution_count": 36,
     "metadata": {},
     "output_type": "execute_result"
    },
    {
     "data": {
      "image/png": "[encoded data removed]",
      "text/plain": [
       "<Figure size 432x288 with 1 Axes>"
      ]
     },
     "metadata": {
      "needs_background": "light"
     },
     "output_type": "display_data"
    }
   ],
   "source": [
    "train[\"Vintage\"].plot(kind=\"hist\")"
   ]
  },
  {
   "cell_type": "code",
   "execution_count": 37,
   "metadata": {},
   "outputs": [
    {
     "data": {
      "text/plain": [
       "count    245725.000000\n",
       "mean         46.959141\n",
       "std          32.353136\n",
       "min           7.000000\n",
       "25%          20.000000\n",
       "50%          32.000000\n",
       "75%          73.000000\n",
       "max         135.000000\n",
       "Name: Vintage, dtype: float64"
      ]
     },
     "execution_count": 37,
     "metadata": {},
     "output_type": "execute_result"
    }
   ],
   "source": [
    "train[\"Vintage\"].describe()"
   ]
  },
  {
   "cell_type": "markdown",
   "metadata": {},
   "source": [
    "###### -> These customers are with us from minimum 6 months to nearly 10 years\n",
    "######     Customers with us are found more in the range of <3 years  "
   ]
  },
  {
   "cell_type": "code",
   "execution_count": 38,
   "metadata": {},
   "outputs": [
    {
     "data": {
      "text/plain": [
       "<AxesSubplot:xlabel='Credit_Product', ylabel='count'>"
      ]
     },
     "execution_count": 38,
     "metadata": {},
     "output_type": "execute_result"
    },
    {
     "data": {
      "image/png": "[encoded data removed]",
      "text/plain": [
       "<Figure size 576x360 with 1 Axes>"
      ]
     },
     "metadata": {
      "needs_background": "light"
     },
     "output_type": "display_data"
    }
   ],
   "source": [
    "plt.figure(figsize=(8,5))\n",
    "sns.countplot('Credit_Product',data=train,palette='bone')"
   ]
  },
  {
   "cell_type": "markdown",
   "metadata": {},
   "source": [
    "###### -> Customers having no credits are more"
   ]
  },
  {
   "cell_type": "code",
   "execution_count": 39,
   "metadata": {},
   "outputs": [
    {
     "data": {
      "text/plain": [
       "count    2.457250e+05\n",
       "mean     1.128403e+06\n",
       "std      8.529364e+05\n",
       "min      2.079000e+04\n",
       "25%      6.043100e+05\n",
       "50%      8.946010e+05\n",
       "75%      1.366666e+06\n",
       "max      1.035201e+07\n",
       "Name: Avg_Account_Balance, dtype: float64"
      ]
     },
     "execution_count": 39,
     "metadata": {},
     "output_type": "execute_result"
    }
   ],
   "source": [
    "train[\"Avg_Account_Balance\"].describe()"
   ]
  },
  {
   "cell_type": "code",
   "execution_count": 40,
   "metadata": {},
   "outputs": [
    {
     "data": {
      "text/plain": [
       "<AxesSubplot:ylabel='Frequency'>"
      ]
     },
     "execution_count": 40,
     "metadata": {},
     "output_type": "execute_result"
    },
    {
     "data": {
      "image/png": "[encoded data removed]",
      "text/plain": [
       "<Figure size 432x288 with 1 Axes>"
      ]
     },
     "metadata": {
      "needs_background": "light"
     },
     "output_type": "display_data"
    }
   ],
   "source": [
    "train[\"Avg_Account_Balance\"].plot(kind='hist')"
   ]
  },
  {
   "cell_type": "markdown",
   "metadata": {},
   "source": [
    "###### -> Customers under  2Million Avg Availalble Balance constitute the most"
   ]
  },
  {
   "cell_type": "code",
   "execution_count": 41,
   "metadata": {},
   "outputs": [
    {
     "data": {
      "text/plain": [
       "<AxesSubplot:xlabel='Is_Active', ylabel='count'>"
      ]
     },
     "execution_count": 41,
     "metadata": {},
     "output_type": "execute_result"
    },
    {
     "data": {
      "image/png": "[encoded data removed]",
      "text/plain": [
       "<Figure size 576x360 with 1 Axes>"
      ]
     },
     "metadata": {
      "needs_background": "light"
     },
     "output_type": "display_data"
    }
   ],
   "source": [
    "plt.figure(figsize=(8,5))\n",
    "sns.countplot('Is_Active',data=train,palette='coolwarm')"
   ]
  },
  {
   "cell_type": "markdown",
   "metadata": {},
   "source": [
    "###### -> More Customers are inactive "
   ]
  },
  {
   "cell_type": "code",
   "execution_count": 42,
   "metadata": {},
   "outputs": [
    {
     "data": {
      "text/plain": [
       "<AxesSubplot:xlabel='Is_Lead', ylabel='count'>"
      ]
     },
     "execution_count": 42,
     "metadata": {},
     "output_type": "execute_result"
    },
    {
     "data": {
      "image/png": "[encoded data removed]",
      "text/plain": [
       "<Figure size 576x360 with 1 Axes>"
      ]
     },
     "metadata": {
      "needs_background": "light"
     },
     "output_type": "display_data"
    }
   ],
   "source": [
    "plt.figure(figsize=(8,5))\n",
    "sns.countplot('Is_Lead',data=train,palette='ocean')"
   ]
  },
  {
   "cell_type": "markdown",
   "metadata": {},
   "source": [
    "###### -> Dataset is skewed towards Not interested Customers"
   ]
  },
  {
   "cell_type": "code",
   "execution_count": 43,
   "metadata": {},
   "outputs": [],
   "source": [
    "data_b4_fe = data.copy()"
   ]
  },
  {
   "cell_type": "code",
   "execution_count": 44,
   "metadata": {},
   "outputs": [
    {
     "data": {
      "text/plain": [
       "((351037, 11), (351037, 11))"
      ]
     },
     "execution_count": 44,
     "metadata": {},
     "output_type": "execute_result"
    }
   ],
   "source": [
    "data_b4_fe.shape, data.shape"
   ]
  },
  {
   "cell_type": "code",
   "execution_count": 45,
   "metadata": {},
   "outputs": [],
   "source": [
    "#####data = data_b4_fe.copy()"
   ]
  },
  {
   "cell_type": "code",
   "execution_count": 46,
   "metadata": {},
   "outputs": [],
   "source": [
    "data[\"Gender\"] = np.where(data[\"Gender\"]==\"Male\",1,0)"
   ]
  },
  {
   "cell_type": "code",
   "execution_count": 47,
   "metadata": {},
   "outputs": [
    {
     "data": {
      "text/plain": [
       "1    191902\n",
       "0    159135\n",
       "Name: Gender, dtype: int64"
      ]
     },
     "execution_count": 47,
     "metadata": {},
     "output_type": "execute_result"
    }
   ],
   "source": [
    "data[\"Gender\"].value_counts()"
   ]
  },
  {
   "cell_type": "code",
   "execution_count": 48,
   "metadata": {},
   "outputs": [],
   "source": [
    "data[\"Occupation\"].replace({\"Other\":0,\"Salaried\":1,\"Self_Employed\":2,\"Entrepreneur\":3},inplace=True)"
   ]
  },
  {
   "cell_type": "code",
   "execution_count": 49,
   "metadata": {
    "scrolled": true
   },
   "outputs": [
    {
     "data": {
      "text/plain": [
       "2    144078\n",
       "1    102912\n",
       "0    100304\n",
       "3      3743\n",
       "Name: Occupation, dtype: int64"
      ]
     },
     "execution_count": 49,
     "metadata": {},
     "output_type": "execute_result"
    }
   ],
   "source": [
    "data[\"Occupation\"].value_counts()"
   ]
  },
  {
   "cell_type": "code",
   "execution_count": 50,
   "metadata": {},
   "outputs": [
    {
     "data": {
      "text/plain": [
       "2    144078\n",
       "1    102912\n",
       "0    100304\n",
       "3      3743\n",
       "Name: Occupation, dtype: int64"
      ]
     },
     "execution_count": 50,
     "metadata": {},
     "output_type": "execute_result"
    }
   ],
   "source": [
    "data[\"Occupation\"].value_counts()"
   ]
  },
  {
   "cell_type": "code",
   "execution_count": 51,
   "metadata": {},
   "outputs": [
    {
     "data": {
      "text/plain": [
       "X1    148202\n",
       "X3     97981\n",
       "X2     96902\n",
       "X4      7952\n",
       "Name: Channel_Code, dtype: int64"
      ]
     },
     "execution_count": 51,
     "metadata": {},
     "output_type": "execute_result"
    }
   ],
   "source": [
    "data[\"Channel_Code\"].value_counts()"
   ]
  },
  {
   "cell_type": "code",
   "execution_count": 52,
   "metadata": {},
   "outputs": [],
   "source": [
    "data[\"Channel_Code\"].replace({\"X1\":1,\"X2\":2,\"X3\":3,\"X4\":4},inplace=True)"
   ]
  },
  {
   "cell_type": "code",
   "execution_count": 53,
   "metadata": {},
   "outputs": [
    {
     "data": {
      "text/plain": [
       "1    148202\n",
       "3     97981\n",
       "2     96902\n",
       "4      7952\n",
       "Name: Channel_Code, dtype: int64"
      ]
     },
     "execution_count": 53,
     "metadata": {},
     "output_type": "execute_result"
    }
   ],
   "source": [
    "data[\"Channel_Code\"].value_counts()"
   ]
  },
  {
   "cell_type": "code",
   "execution_count": 54,
   "metadata": {},
   "outputs": [
    {
     "data": {
      "text/plain": [
       "No     205965\n",
       "Yes    145072\n",
       "Name: Credit_Product, dtype: int64"
      ]
     },
     "execution_count": 54,
     "metadata": {},
     "output_type": "execute_result"
    }
   ],
   "source": [
    "data[\"Credit_Product\"].value_counts()"
   ]
  },
  {
   "cell_type": "code",
   "execution_count": 55,
   "metadata": {},
   "outputs": [],
   "source": [
    "data[\"Credit_Product\"] = np.where(data[\"Credit_Product\"]==\"Yes\",1,0)"
   ]
  },
  {
   "cell_type": "code",
   "execution_count": 56,
   "metadata": {},
   "outputs": [
    {
     "data": {
      "text/plain": [
       "0    205965\n",
       "1    145072\n",
       "Name: Credit_Product, dtype: int64"
      ]
     },
     "execution_count": 56,
     "metadata": {},
     "output_type": "execute_result"
    }
   ],
   "source": [
    "data[\"Credit_Product\"].value_counts()"
   ]
  },
  {
   "cell_type": "code",
   "execution_count": 57,
   "metadata": {},
   "outputs": [
    {
     "data": {
      "text/plain": [
       "No     214087\n",
       "Yes    136950\n",
       "Name: Is_Active, dtype: int64"
      ]
     },
     "execution_count": 57,
     "metadata": {},
     "output_type": "execute_result"
    }
   ],
   "source": [
    "data[\"Is_Active\"].value_counts()"
   ]
  },
  {
   "cell_type": "code",
   "execution_count": 58,
   "metadata": {},
   "outputs": [],
   "source": [
    "data[\"Is_Active\"] = np.where(data[\"Is_Active\"]==\"Yes\",1,0)"
   ]
  },
  {
   "cell_type": "code",
   "execution_count": 59,
   "metadata": {},
   "outputs": [
    {
     "data": {
      "text/plain": [
       "0    214087\n",
       "1    136950\n",
       "Name: Is_Active, dtype: int64"
      ]
     },
     "execution_count": 59,
     "metadata": {},
     "output_type": "execute_result"
    }
   ],
   "source": [
    "data[\"Is_Active\"].value_counts()"
   ]
  },
  {
   "cell_type": "code",
   "execution_count": 60,
   "metadata": {},
   "outputs": [
    {
     "data": {
      "text/plain": [
       "(array(['RG268', 'RG277', 'RG270', 'RG282', 'RG261', 'RG265', 'RG283',\n",
       "        'RG254', 'RG269', 'RG257', 'RG279', 'RG280', 'RG252', 'RG284',\n",
       "        'RG259', 'RG281', 'RG258', 'RG266', 'RG260', 'RG274', 'RG256',\n",
       "        'RG275', 'RG273', 'RG267', 'RG272', 'RG251', 'RG262', 'RG264',\n",
       "        'RG278', 'RG276', 'RG263', 'RG250', 'RG255', 'RG253', 'RG271'],\n",
       "       dtype=object),\n",
       " 35)"
      ]
     },
     "execution_count": 60,
     "metadata": {},
     "output_type": "execute_result"
    }
   ],
   "source": [
    "data[\"Region_Code\"].unique(), data[\"Region_Code\"].nunique()#, data[\"Region_Code\"].value_counts()"
   ]
  },
  {
   "cell_type": "code",
   "execution_count": 61,
   "metadata": {},
   "outputs": [],
   "source": [
    "#data[\"Region_Code\"].apply(lambda x: x.split()[1])\n",
    "data[\"Region_Code\"] = data[\"Region_Code\"].str.strip('RG').astype('int64')"
   ]
  },
  {
   "cell_type": "code",
   "execution_count": 62,
   "metadata": {},
   "outputs": [
    {
     "data": {
      "text/plain": [
       "(array([268, 277, 270, 282, 261, 265, 283, 254, 269, 257, 279, 280, 252,\n",
       "        284, 259, 281, 258, 266, 260, 274, 256, 275, 273, 267, 272, 251,\n",
       "        262, 264, 278, 276, 263, 250, 255, 253, 271], dtype=int64),\n",
       " 35)"
      ]
     },
     "execution_count": 62,
     "metadata": {},
     "output_type": "execute_result"
    }
   ],
   "source": [
    "data[\"Region_Code\"].unique(), data[\"Region_Code\"].nunique()#, data[\"Region_Code\"].value_counts()"
   ]
  },
  {
   "cell_type": "code",
   "execution_count": 63,
   "metadata": {},
   "outputs": [
    {
     "data": {
      "text/html": [
       "<div>\n",
       "<style scoped>\n",
       "    .dataframe tbody tr th:only-of-type {\n",
       "        vertical-align: middle;\n",
       "    }\n",
       "\n",
       "    .dataframe tbody tr th {\n",
       "        vertical-align: top;\n",
       "    }\n",
       "\n",
       "    .dataframe thead th {\n",
       "        text-align: right;\n",
       "    }\n",
       "</style>\n",
       "<table border=\"1\" class=\"dataframe\">\n",
       "  <thead>\n",
       "    <tr style=\"text-align: right;\">\n",
       "      <th></th>\n",
       "      <th>Gender</th>\n",
       "      <th>Age</th>\n",
       "      <th>Region_Code</th>\n",
       "      <th>Occupation</th>\n",
       "      <th>Channel_Code</th>\n",
       "      <th>Vintage</th>\n",
       "      <th>Credit_Product</th>\n",
       "      <th>Avg_Account_Balance</th>\n",
       "      <th>Is_Active</th>\n",
       "      <th>Is_Lead</th>\n",
       "      <th>source</th>\n",
       "    </tr>\n",
       "    <tr>\n",
       "      <th>ID</th>\n",
       "      <th></th>\n",
       "      <th></th>\n",
       "      <th></th>\n",
       "      <th></th>\n",
       "      <th></th>\n",
       "      <th></th>\n",
       "      <th></th>\n",
       "      <th></th>\n",
       "      <th></th>\n",
       "      <th></th>\n",
       "      <th></th>\n",
       "    </tr>\n",
       "  </thead>\n",
       "  <tbody>\n",
       "    <tr>\n",
       "      <th>NNVBBKZB</th>\n",
       "      <td>0</td>\n",
       "      <td>73</td>\n",
       "      <td>268</td>\n",
       "      <td>0</td>\n",
       "      <td>3</td>\n",
       "      <td>43</td>\n",
       "      <td>0</td>\n",
       "      <td>1045696</td>\n",
       "      <td>0</td>\n",
       "      <td>0.0</td>\n",
       "      <td>train</td>\n",
       "    </tr>\n",
       "    <tr>\n",
       "      <th>IDD62UNG</th>\n",
       "      <td>0</td>\n",
       "      <td>30</td>\n",
       "      <td>277</td>\n",
       "      <td>1</td>\n",
       "      <td>1</td>\n",
       "      <td>32</td>\n",
       "      <td>0</td>\n",
       "      <td>581988</td>\n",
       "      <td>0</td>\n",
       "      <td>0.0</td>\n",
       "      <td>train</td>\n",
       "    </tr>\n",
       "    <tr>\n",
       "      <th>HD3DSEMC</th>\n",
       "      <td>0</td>\n",
       "      <td>56</td>\n",
       "      <td>268</td>\n",
       "      <td>2</td>\n",
       "      <td>3</td>\n",
       "      <td>26</td>\n",
       "      <td>0</td>\n",
       "      <td>1484315</td>\n",
       "      <td>1</td>\n",
       "      <td>0.0</td>\n",
       "      <td>train</td>\n",
       "    </tr>\n",
       "    <tr>\n",
       "      <th>BF3NC7KV</th>\n",
       "      <td>1</td>\n",
       "      <td>34</td>\n",
       "      <td>270</td>\n",
       "      <td>1</td>\n",
       "      <td>1</td>\n",
       "      <td>19</td>\n",
       "      <td>0</td>\n",
       "      <td>470454</td>\n",
       "      <td>0</td>\n",
       "      <td>0.0</td>\n",
       "      <td>train</td>\n",
       "    </tr>\n",
       "    <tr>\n",
       "      <th>TEASRWXV</th>\n",
       "      <td>0</td>\n",
       "      <td>30</td>\n",
       "      <td>282</td>\n",
       "      <td>1</td>\n",
       "      <td>1</td>\n",
       "      <td>33</td>\n",
       "      <td>0</td>\n",
       "      <td>886787</td>\n",
       "      <td>0</td>\n",
       "      <td>0.0</td>\n",
       "      <td>train</td>\n",
       "    </tr>\n",
       "  </tbody>\n",
       "</table>\n",
       "</div>"
      ],
      "text/plain": [
       "          Gender  Age  Region_Code  Occupation  Channel_Code  Vintage  \\\n",
       "ID                                                                      \n",
       "NNVBBKZB       0   73          268           0             3       43   \n",
       "IDD62UNG       0   30          277           1             1       32   \n",
       "HD3DSEMC       0   56          268           2             3       26   \n",
       "BF3NC7KV       1   34          270           1             1       19   \n",
       "TEASRWXV       0   30          282           1             1       33   \n",
       "\n",
       "          Credit_Product  Avg_Account_Balance  Is_Active  Is_Lead source  \n",
       "ID                                                                        \n",
       "NNVBBKZB               0              1045696          0      0.0  train  \n",
       "IDD62UNG               0               581988          0      0.0  train  \n",
       "HD3DSEMC               0              1484315          1      0.0  train  \n",
       "BF3NC7KV               0               470454          0      0.0  train  \n",
       "TEASRWXV               0               886787          0      0.0  train  "
      ]
     },
     "execution_count": 63,
     "metadata": {},
     "output_type": "execute_result"
    }
   ],
   "source": [
    "data.head()"
   ]
  },
  {
   "cell_type": "code",
   "execution_count": 64,
   "metadata": {},
   "outputs": [
    {
     "name": "stdout",
     "output_type": "stream",
     "text": [
      "               feature        VIF\n",
      "0               Gender   2.277233\n",
      "1                  Age  21.291408\n",
      "2          Region_Code  14.942227\n",
      "3           Occupation   3.199088\n",
      "4         Channel_Code  10.618664\n",
      "5              Vintage   5.638599\n",
      "6       Credit_Product   1.956545\n",
      "7  Avg_Account_Balance   2.841321\n",
      "8            Is_Active   1.830676\n"
     ]
    }
   ],
   "source": [
    "from statsmodels.stats.outliers_influence import variance_inflation_factor\n",
    "\n",
    "ind_X = data.select_dtypes(include=np.number).drop(columns=['Is_Lead'])\n",
    "vif_data = pd.DataFrame()\n",
    "vif_data['feature'] = ind_X.columns\n",
    "vif_data['VIF'] = [variance_inflation_factor(ind_X.values,i) for i in range(len(ind_X.columns))]\n",
    "print(vif_data)"
   ]
  },
  {
   "cell_type": "code",
   "execution_count": 65,
   "metadata": {},
   "outputs": [
    {
     "name": "stdout",
     "output_type": "stream",
     "text": [
      "Gender  Is_Lead\n",
      "Female  1          22705\n",
      "Male    1          35583\n",
      "Name: Is_Lead, dtype: int64\n",
      "\n",
      "\n",
      "Region_Code  Is_Lead\n",
      "RG250        1            393\n",
      "RG251        1           1381\n",
      "RG252        1            592\n",
      "RG253        1            481\n",
      "RG254        1           5713\n",
      "RG255        1            469\n",
      "RG256        1            401\n",
      "RG257        1           1170\n",
      "RG258        1            430\n",
      "RG259        1            501\n",
      "RG260        1            594\n",
      "RG261        1           1282\n",
      "RG262        1            323\n",
      "RG263        1            818\n",
      "RG264        1            383\n",
      "RG265        1            400\n",
      "RG266        1            220\n",
      "RG267        1            223\n",
      "RG268        1          10773\n",
      "RG269        1           1743\n",
      "RG270        1           1114\n",
      "RG271        1            261\n",
      "RG272        1           1155\n",
      "RG273        1           1069\n",
      "RG274        1            872\n",
      "RG275        1            543\n",
      "RG276        1            768\n",
      "RG277        1           2975\n",
      "RG278        1            400\n",
      "RG279        1            897\n",
      "RG280        1           3009\n",
      "RG281        1           1114\n",
      "RG282        1           1120\n",
      "RG283        1           8885\n",
      "RG284        1           5816\n",
      "Name: Is_Lead, dtype: int64\n",
      "\n",
      "\n",
      "Occupation     Is_Lead\n",
      "Entrepreneur   1           1762\n",
      "Other          1          17189\n",
      "Salaried       1          11496\n",
      "Self_Employed  1          27841\n",
      "Name: Is_Lead, dtype: int64\n",
      "\n",
      "\n",
      "Channel_Code  Is_Lead\n",
      "X1            1           9482\n",
      "X2            1          22207\n",
      "X3            1          25219\n",
      "X4            1           1380\n",
      "Name: Is_Lead, dtype: int64\n",
      "\n",
      "\n",
      "Credit_Product  Is_Lead\n",
      "No              1          10623\n",
      "Yes             1          22690\n",
      "Name: Is_Lead, dtype: int64\n",
      "\n",
      "\n",
      "Is_Active  Is_Lead\n",
      "No         1          31283\n",
      "Yes        1          27005\n",
      "Name: Is_Lead, dtype: int64\n",
      "\n",
      "\n"
     ]
    }
   ],
   "source": [
    "categorical_vars = ['Gender', 'Region_Code', 'Occupation', 'Channel_Code', 'Credit_Product', 'Is_Active']\n",
    "for i in categorical_vars:\n",
    "    print(train[train['Is_Lead']==1].groupby(i)['Is_Lead'].value_counts())#.nlargest(8))\n",
    "    print(\"\\n\")"
   ]
  },
  {
   "cell_type": "raw",
   "metadata": {},
   "source": []
  },
  {
   "cell_type": "raw",
   "metadata": {},
   "source": []
  },
  {
   "cell_type": "raw",
   "metadata": {},
   "source": []
  },
  {
   "cell_type": "raw",
   "metadata": {},
   "source": []
  },
  {
   "cell_type": "code",
   "execution_count": 66,
   "metadata": {},
   "outputs": [
    {
     "data": {
      "text/plain": [
       "(351037, 11)"
      ]
     },
     "execution_count": 66,
     "metadata": {},
     "output_type": "execute_result"
    }
   ],
   "source": [
    "data_cp2 = data.copy()\n",
    "data_cp2.shape"
   ]
  },
  {
   "cell_type": "code",
   "execution_count": 67,
   "metadata": {},
   "outputs": [],
   "source": [
    "train_orig = train.copy()\n",
    "test_orig = test.copy()"
   ]
  },
  {
   "cell_type": "code",
   "execution_count": 68,
   "metadata": {},
   "outputs": [
    {
     "data": {
      "text/html": [
       "<div>\n",
       "<style scoped>\n",
       "    .dataframe tbody tr th:only-of-type {\n",
       "        vertical-align: middle;\n",
       "    }\n",
       "\n",
       "    .dataframe tbody tr th {\n",
       "        vertical-align: top;\n",
       "    }\n",
       "\n",
       "    .dataframe thead th {\n",
       "        text-align: right;\n",
       "    }\n",
       "</style>\n",
       "<table border=\"1\" class=\"dataframe\">\n",
       "  <thead>\n",
       "    <tr style=\"text-align: right;\">\n",
       "      <th></th>\n",
       "      <th>Gender</th>\n",
       "      <th>Age</th>\n",
       "      <th>Region_Code</th>\n",
       "      <th>Occupation</th>\n",
       "      <th>Channel_Code</th>\n",
       "      <th>Vintage</th>\n",
       "      <th>Credit_Product</th>\n",
       "      <th>Avg_Account_Balance</th>\n",
       "      <th>Is_Active</th>\n",
       "      <th>Is_Lead</th>\n",
       "    </tr>\n",
       "  </thead>\n",
       "  <tbody>\n",
       "    <tr>\n",
       "      <th>Gender</th>\n",
       "      <td>1.000000</td>\n",
       "      <td>0.151621</td>\n",
       "      <td>0.003460</td>\n",
       "      <td>0.040153</td>\n",
       "      <td>0.150476</td>\n",
       "      <td>0.146208</td>\n",
       "      <td>0.078549</td>\n",
       "      <td>0.023488</td>\n",
       "      <td>0.065665</td>\n",
       "      <td>0.072068</td>\n",
       "    </tr>\n",
       "    <tr>\n",
       "      <th>Age</th>\n",
       "      <td>0.151621</td>\n",
       "      <td>1.000000</td>\n",
       "      <td>0.118347</td>\n",
       "      <td>-0.116001</td>\n",
       "      <td>0.604006</td>\n",
       "      <td>0.628558</td>\n",
       "      <td>0.245751</td>\n",
       "      <td>0.142563</td>\n",
       "      <td>0.219391</td>\n",
       "      <td>0.230814</td>\n",
       "    </tr>\n",
       "    <tr>\n",
       "      <th>Region_Code</th>\n",
       "      <td>0.003460</td>\n",
       "      <td>0.118347</td>\n",
       "      <td>1.000000</td>\n",
       "      <td>0.029354</td>\n",
       "      <td>0.104148</td>\n",
       "      <td>0.118954</td>\n",
       "      <td>0.078353</td>\n",
       "      <td>0.075311</td>\n",
       "      <td>0.059553</td>\n",
       "      <td>0.062501</td>\n",
       "    </tr>\n",
       "    <tr>\n",
       "      <th>Occupation</th>\n",
       "      <td>0.040153</td>\n",
       "      <td>-0.116001</td>\n",
       "      <td>0.029354</td>\n",
       "      <td>1.000000</td>\n",
       "      <td>0.158803</td>\n",
       "      <td>0.065207</td>\n",
       "      <td>0.078486</td>\n",
       "      <td>-0.021505</td>\n",
       "      <td>0.083039</td>\n",
       "      <td>0.063513</td>\n",
       "    </tr>\n",
       "    <tr>\n",
       "      <th>Channel_Code</th>\n",
       "      <td>0.150476</td>\n",
       "      <td>0.604006</td>\n",
       "      <td>0.104148</td>\n",
       "      <td>0.158803</td>\n",
       "      <td>1.000000</td>\n",
       "      <td>0.536948</td>\n",
       "      <td>0.302118</td>\n",
       "      <td>0.098654</td>\n",
       "      <td>0.250203</td>\n",
       "      <td>0.261211</td>\n",
       "    </tr>\n",
       "    <tr>\n",
       "      <th>Vintage</th>\n",
       "      <td>0.146208</td>\n",
       "      <td>0.628558</td>\n",
       "      <td>0.118954</td>\n",
       "      <td>0.065207</td>\n",
       "      <td>0.536948</td>\n",
       "      <td>1.000000</td>\n",
       "      <td>0.236266</td>\n",
       "      <td>0.166611</td>\n",
       "      <td>0.210762</td>\n",
       "      <td>0.279642</td>\n",
       "    </tr>\n",
       "    <tr>\n",
       "      <th>Credit_Product</th>\n",
       "      <td>0.078549</td>\n",
       "      <td>0.245751</td>\n",
       "      <td>0.078353</td>\n",
       "      <td>0.078486</td>\n",
       "      <td>0.302118</td>\n",
       "      <td>0.236266</td>\n",
       "      <td>1.000000</td>\n",
       "      <td>0.068125</td>\n",
       "      <td>-0.060379</td>\n",
       "      <td>0.459025</td>\n",
       "    </tr>\n",
       "    <tr>\n",
       "      <th>Avg_Account_Balance</th>\n",
       "      <td>0.023488</td>\n",
       "      <td>0.142563</td>\n",
       "      <td>0.075311</td>\n",
       "      <td>-0.021505</td>\n",
       "      <td>0.098654</td>\n",
       "      <td>0.166611</td>\n",
       "      <td>0.068125</td>\n",
       "      <td>1.000000</td>\n",
       "      <td>0.075905</td>\n",
       "      <td>0.053370</td>\n",
       "    </tr>\n",
       "    <tr>\n",
       "      <th>Is_Active</th>\n",
       "      <td>0.065665</td>\n",
       "      <td>0.219391</td>\n",
       "      <td>0.059553</td>\n",
       "      <td>0.083039</td>\n",
       "      <td>0.250203</td>\n",
       "      <td>0.210762</td>\n",
       "      <td>-0.060379</td>\n",
       "      <td>0.075905</td>\n",
       "      <td>1.000000</td>\n",
       "      <td>0.085723</td>\n",
       "    </tr>\n",
       "    <tr>\n",
       "      <th>Is_Lead</th>\n",
       "      <td>0.072068</td>\n",
       "      <td>0.230814</td>\n",
       "      <td>0.062501</td>\n",
       "      <td>0.063513</td>\n",
       "      <td>0.261211</td>\n",
       "      <td>0.279642</td>\n",
       "      <td>0.459025</td>\n",
       "      <td>0.053370</td>\n",
       "      <td>0.085723</td>\n",
       "      <td>1.000000</td>\n",
       "    </tr>\n",
       "  </tbody>\n",
       "</table>\n",
       "</div>"
      ],
      "text/plain": [
       "                       Gender       Age  Region_Code  Occupation  \\\n",
       "Gender               1.000000  0.151621     0.003460    0.040153   \n",
       "Age                  0.151621  1.000000     0.118347   -0.116001   \n",
       "Region_Code          0.003460  0.118347     1.000000    0.029354   \n",
       "Occupation           0.040153 -0.116001     0.029354    1.000000   \n",
       "Channel_Code         0.150476  0.604006     0.104148    0.158803   \n",
       "Vintage              0.146208  0.628558     0.118954    0.065207   \n",
       "Credit_Product       0.078549  0.245751     0.078353    0.078486   \n",
       "Avg_Account_Balance  0.023488  0.142563     0.075311   -0.021505   \n",
       "Is_Active            0.065665  0.219391     0.059553    0.083039   \n",
       "Is_Lead              0.072068  0.230814     0.062501    0.063513   \n",
       "\n",
       "                     Channel_Code   Vintage  Credit_Product  \\\n",
       "Gender                   0.150476  0.146208        0.078549   \n",
       "Age                      0.604006  0.628558        0.245751   \n",
       "Region_Code              0.104148  0.118954        0.078353   \n",
       "Occupation               0.158803  0.065207        0.078486   \n",
       "Channel_Code             1.000000  0.536948        0.302118   \n",
       "Vintage                  0.536948  1.000000        0.236266   \n",
       "Credit_Product           0.302118  0.236266        1.000000   \n",
       "Avg_Account_Balance      0.098654  0.166611        0.068125   \n",
       "Is_Active                0.250203  0.210762       -0.060379   \n",
       "Is_Lead                  0.261211  0.279642        0.459025   \n",
       "\n",
       "                     Avg_Account_Balance  Is_Active   Is_Lead  \n",
       "Gender                          0.023488   0.065665  0.072068  \n",
       "Age                             0.142563   0.219391  0.230814  \n",
       "Region_Code                     0.075311   0.059553  0.062501  \n",
       "Occupation                     -0.021505   0.083039  0.063513  \n",
       "Channel_Code                    0.098654   0.250203  0.261211  \n",
       "Vintage                         0.166611   0.210762  0.279642  \n",
       "Credit_Product                  0.068125  -0.060379  0.459025  \n",
       "Avg_Account_Balance             1.000000   0.075905  0.053370  \n",
       "Is_Active                       0.075905   1.000000  0.085723  \n",
       "Is_Lead                         0.053370   0.085723  1.000000  "
      ]
     },
     "execution_count": 68,
     "metadata": {},
     "output_type": "execute_result"
    }
   ],
   "source": [
    "data.corr()"
   ]
  },
  {
   "cell_type": "code",
   "execution_count": null,
   "metadata": {},
   "outputs": [],
   "source": []
  },
  {
   "cell_type": "code",
   "execution_count": null,
   "metadata": {},
   "outputs": [],
   "source": []
  },
  {
   "cell_type": "code",
   "execution_count": 69,
   "metadata": {},
   "outputs": [
    {
     "data": {
      "text/plain": [
       "((245725, 12), (105312, 11), (245725, 10), (105312, 9))"
      ]
     },
     "execution_count": 69,
     "metadata": {},
     "output_type": "execute_result"
    }
   ],
   "source": [
    "train = data[data[\"source\"]==\"train\"]\n",
    "test = data[data[\"source\"]==\"test\"]\n",
    "\n",
    "del train[\"source\"]\n",
    "del test[\"source\"]\n",
    "del test[\"Is_Lead\"]\n",
    "train_orig.shape, test_orig.shape, train.shape, test.shape, "
   ]
  },
  {
   "cell_type": "code",
   "execution_count": null,
   "metadata": {},
   "outputs": [],
   "source": []
  },
  {
   "cell_type": "code",
   "execution_count": 70,
   "metadata": {},
   "outputs": [
    {
     "data": {
      "text/plain": [
       "((245725, 12), (105312, 11), (245725, 10), (105312, 9))"
      ]
     },
     "execution_count": 70,
     "metadata": {},
     "output_type": "execute_result"
    }
   ],
   "source": [
    "cc=[]\n",
    "#cc=['Age','Region_Code','Vintage','Avg_Account_Balance']\n",
    "#cc=['Region_Code']\n",
    "train.drop(cc, axis=1, inplace=True)\n",
    "test.drop(cc, axis=1, inplace=True)\n",
    "train_orig.shape, test_orig.shape, train.shape, test.shape, "
   ]
  },
  {
   "cell_type": "code",
   "execution_count": 71,
   "metadata": {},
   "outputs": [],
   "source": [
    "train_b4_ssc = train.copy()\n",
    "test_b4_ssc = test.copy()"
   ]
  },
  {
   "cell_type": "code",
   "execution_count": null,
   "metadata": {},
   "outputs": [],
   "source": []
  },
  {
   "cell_type": "code",
   "execution_count": 72,
   "metadata": {},
   "outputs": [
    {
     "data": {
      "text/plain": [
       "0.0    187437\n",
       "1.0     58288\n",
       "Name: Is_Lead, dtype: int64"
      ]
     },
     "execution_count": 72,
     "metadata": {},
     "output_type": "execute_result"
    }
   ],
   "source": [
    "train['Is_Lead'].value_counts()"
   ]
  },
  {
   "cell_type": "code",
   "execution_count": 73,
   "metadata": {},
   "outputs": [
    {
     "data": {
      "text/plain": [
       "(58288, 10)"
      ]
     },
     "execution_count": 73,
     "metadata": {},
     "output_type": "execute_result"
    }
   ],
   "source": [
    "Leads = train[train['Is_Lead']==1]\n",
    "Leads.shape"
   ]
  },
  {
   "cell_type": "code",
   "execution_count": 74,
   "metadata": {},
   "outputs": [
    {
     "data": {
      "text/plain": [
       "(187437, 10)"
      ]
     },
     "execution_count": 74,
     "metadata": {},
     "output_type": "execute_result"
    }
   ],
   "source": [
    "Non_leads = train[train['Is_Lead']==0]\n",
    "Non_leads.shape"
   ]
  },
  {
   "cell_type": "code",
   "execution_count": 75,
   "metadata": {},
   "outputs": [
    {
     "data": {
      "text/plain": [
       "(116576, 10)"
      ]
     },
     "execution_count": 75,
     "metadata": {},
     "output_type": "execute_result"
    }
   ],
   "source": [
    "selected_Non_leads = Non_leads.sample(n=Leads.shape[0], random_state=22)\n",
    "train_undersample= pd.concat([Leads,selected_Non_leads],axis=0)\n",
    "train_undersample.shape"
   ]
  },
  {
   "cell_type": "code",
   "execution_count": 76,
   "metadata": {},
   "outputs": [
    {
     "data": {
      "text/plain": [
       "((116576, 10), (116576, 10))"
      ]
     },
     "execution_count": 76,
     "metadata": {},
     "output_type": "execute_result"
    }
   ],
   "source": [
    "train_undersample[train_undersample==1].shape,train_undersample[train_undersample==0].shape"
   ]
  },
  {
   "cell_type": "code",
   "execution_count": 77,
   "metadata": {},
   "outputs": [
    {
     "data": {
      "text/plain": [
       "(116576,)"
      ]
     },
     "execution_count": 77,
     "metadata": {},
     "output_type": "execute_result"
    }
   ],
   "source": [
    "train_undersample_y = train_undersample[\"Is_Lead\"]\n",
    "train_undersample_y.shape#, train_undersample_y.columns()"
   ]
  },
  {
   "cell_type": "code",
   "execution_count": 78,
   "metadata": {},
   "outputs": [
    {
     "data": {
      "text/plain": [
       "(Index(['Gender', 'Age', 'Region_Code', 'Occupation', 'Channel_Code', 'Vintage',\n",
       "        'Credit_Product', 'Avg_Account_Balance', 'Is_Active', 'Is_Lead'],\n",
       "       dtype='object'),\n",
       " Index(['Gender', 'Age', 'Region_Code', 'Occupation', 'Channel_Code', 'Vintage',\n",
       "        'Credit_Product', 'Avg_Account_Balance', 'Is_Active', 'Is_Lead'],\n",
       "       dtype='object'))"
      ]
     },
     "execution_count": 78,
     "metadata": {},
     "output_type": "execute_result"
    }
   ],
   "source": [
    "train.columns, train_undersample.columns"
   ]
  },
  {
   "cell_type": "code",
   "execution_count": 79,
   "metadata": {},
   "outputs": [],
   "source": [
    "train = train_undersample.copy()"
   ]
  },
  {
   "cell_type": "code",
   "execution_count": null,
   "metadata": {},
   "outputs": [],
   "source": []
  },
  {
   "cell_type": "code",
   "execution_count": 80,
   "metadata": {},
   "outputs": [
    {
     "name": "stdout",
     "output_type": "stream",
     "text": [
      "187437 58288 129149\n",
      "(316586, 10)\n"
     ]
    },
    {
     "data": {
      "text/plain": [
       "((316586, 10), (316586, 10))"
      ]
     },
     "execution_count": 80,
     "metadata": {},
     "output_type": "execute_result"
    }
   ],
   "source": [
    "print(Non_leads.shape[0], Leads.shape[0], Non_leads.shape[0]-Leads.shape[0])\n",
    "selected_Leads = Leads.sample(n=Non_leads.shape[0]-Leads.shape[0], random_state=22, replace=True)\n",
    "selected_Leads.shape\n",
    "train_oversample= pd.concat([Non_leads,selected_Leads],axis=0)\n",
    "print(train_oversample.shape)\n",
    "train_oversample[train_oversample==1].shape,train_oversample[train_oversample==0].shape"
   ]
  },
  {
   "cell_type": "code",
   "execution_count": 81,
   "metadata": {},
   "outputs": [
    {
     "name": "stdout",
     "output_type": "stream",
     "text": [
      "(316586,)\n"
     ]
    }
   ],
   "source": [
    "train_oversample_y = train_oversample[\"Is_Lead\"]\n",
    "print(train_oversample_y.shape)"
   ]
  },
  {
   "cell_type": "code",
   "execution_count": 82,
   "metadata": {},
   "outputs": [],
   "source": [
    "train = train_oversample.copy()"
   ]
  },
  {
   "cell_type": "code",
   "execution_count": null,
   "metadata": {},
   "outputs": [],
   "source": []
  },
  {
   "cell_type": "code",
   "execution_count": 83,
   "metadata": {},
   "outputs": [],
   "source": [
    "from sklearn.preprocessing import StandardScaler"
   ]
  },
  {
   "cell_type": "code",
   "execution_count": 84,
   "metadata": {},
   "outputs": [
    {
     "data": {
      "text/plain": [
       "((316586, 10), (105312, 9))"
      ]
     },
     "execution_count": 84,
     "metadata": {},
     "output_type": "execute_result"
    }
   ],
   "source": [
    "ssc_col_names = ['Age','Vintage','Avg_Account_Balance'] #,'Region_Code'\n",
    "ssc_features = train[ssc_col_names]\n",
    "\n",
    "scaler = StandardScaler().fit(ssc_features.values)\n",
    "ssc_features = scaler.transform(ssc_features.values)\n",
    "\n",
    "train[ssc_col_names] = ssc_features\n",
    "#train_ssc.shape, test_ssc.shape, \n",
    "train.shape, test.shape\n",
    "\n",
    "ssc_features = test[ssc_col_names]\n",
    "\n",
    "scaler = StandardScaler().fit(ssc_features.values)\n",
    "ssc_features = scaler.transform(ssc_features.values)\n",
    "\n",
    "test[ssc_col_names] = ssc_features\n",
    "train.shape, test.shape"
   ]
  },
  {
   "cell_type": "code",
   "execution_count": 85,
   "metadata": {},
   "outputs": [
    {
     "data": {
      "text/html": [
       "<div>\n",
       "<style scoped>\n",
       "    .dataframe tbody tr th:only-of-type {\n",
       "        vertical-align: middle;\n",
       "    }\n",
       "\n",
       "    .dataframe tbody tr th {\n",
       "        vertical-align: top;\n",
       "    }\n",
       "\n",
       "    .dataframe thead th {\n",
       "        text-align: right;\n",
       "    }\n",
       "</style>\n",
       "<table border=\"1\" class=\"dataframe\">\n",
       "  <thead>\n",
       "    <tr style=\"text-align: right;\">\n",
       "      <th></th>\n",
       "      <th>Gender</th>\n",
       "      <th>Age</th>\n",
       "      <th>Region_Code</th>\n",
       "      <th>Occupation</th>\n",
       "      <th>Channel_Code</th>\n",
       "      <th>Vintage</th>\n",
       "      <th>Credit_Product</th>\n",
       "      <th>Avg_Account_Balance</th>\n",
       "      <th>Is_Active</th>\n",
       "      <th>Is_Lead</th>\n",
       "    </tr>\n",
       "    <tr>\n",
       "      <th>ID</th>\n",
       "      <th></th>\n",
       "      <th></th>\n",
       "      <th></th>\n",
       "      <th></th>\n",
       "      <th></th>\n",
       "      <th></th>\n",
       "      <th></th>\n",
       "      <th></th>\n",
       "      <th></th>\n",
       "      <th></th>\n",
       "    </tr>\n",
       "  </thead>\n",
       "  <tbody>\n",
       "    <tr>\n",
       "      <th>NNVBBKZB</th>\n",
       "      <td>0</td>\n",
       "      <td>1.898172</td>\n",
       "      <td>268</td>\n",
       "      <td>0</td>\n",
       "      <td>3</td>\n",
       "      <td>-0.224482</td>\n",
       "      <td>0</td>\n",
       "      <td>-0.116348</td>\n",
       "      <td>0</td>\n",
       "      <td>0.0</td>\n",
       "    </tr>\n",
       "    <tr>\n",
       "      <th>IDD62UNG</th>\n",
       "      <td>0</td>\n",
       "      <td>-1.040223</td>\n",
       "      <td>277</td>\n",
       "      <td>1</td>\n",
       "      <td>1</td>\n",
       "      <td>-0.553120</td>\n",
       "      <td>0</td>\n",
       "      <td>-0.657169</td>\n",
       "      <td>0</td>\n",
       "      <td>0.0</td>\n",
       "    </tr>\n",
       "    <tr>\n",
       "      <th>HD3DSEMC</th>\n",
       "      <td>0</td>\n",
       "      <td>0.736481</td>\n",
       "      <td>268</td>\n",
       "      <td>2</td>\n",
       "      <td>3</td>\n",
       "      <td>-0.732377</td>\n",
       "      <td>0</td>\n",
       "      <td>0.395211</td>\n",
       "      <td>1</td>\n",
       "      <td>0.0</td>\n",
       "    </tr>\n",
       "    <tr>\n",
       "      <th>BF3NC7KV</th>\n",
       "      <td>1</td>\n",
       "      <td>-0.766884</td>\n",
       "      <td>270</td>\n",
       "      <td>1</td>\n",
       "      <td>1</td>\n",
       "      <td>-0.941510</td>\n",
       "      <td>0</td>\n",
       "      <td>-0.787251</td>\n",
       "      <td>0</td>\n",
       "      <td>0.0</td>\n",
       "    </tr>\n",
       "    <tr>\n",
       "      <th>TEASRWXV</th>\n",
       "      <td>0</td>\n",
       "      <td>-1.040223</td>\n",
       "      <td>282</td>\n",
       "      <td>1</td>\n",
       "      <td>1</td>\n",
       "      <td>-0.523243</td>\n",
       "      <td>0</td>\n",
       "      <td>-0.301683</td>\n",
       "      <td>0</td>\n",
       "      <td>0.0</td>\n",
       "    </tr>\n",
       "  </tbody>\n",
       "</table>\n",
       "</div>"
      ],
      "text/plain": [
       "          Gender       Age  Region_Code  Occupation  Channel_Code   Vintage  \\\n",
       "ID                                                                            \n",
       "NNVBBKZB       0  1.898172          268           0             3 -0.224482   \n",
       "IDD62UNG       0 -1.040223          277           1             1 -0.553120   \n",
       "HD3DSEMC       0  0.736481          268           2             3 -0.732377   \n",
       "BF3NC7KV       1 -0.766884          270           1             1 -0.941510   \n",
       "TEASRWXV       0 -1.040223          282           1             1 -0.523243   \n",
       "\n",
       "          Credit_Product  Avg_Account_Balance  Is_Active  Is_Lead  \n",
       "ID                                                                 \n",
       "NNVBBKZB               0            -0.116348          0      0.0  \n",
       "IDD62UNG               0            -0.657169          0      0.0  \n",
       "HD3DSEMC               0             0.395211          1      0.0  \n",
       "BF3NC7KV               0            -0.787251          0      0.0  \n",
       "TEASRWXV               0            -0.301683          0      0.0  "
      ]
     },
     "execution_count": 85,
     "metadata": {},
     "output_type": "execute_result"
    }
   ],
   "source": [
    "train.head()"
   ]
  },
  {
   "cell_type": "code",
   "execution_count": 86,
   "metadata": {},
   "outputs": [
    {
     "data": {
      "text/html": [
       "<div>\n",
       "<style scoped>\n",
       "    .dataframe tbody tr th:only-of-type {\n",
       "        vertical-align: middle;\n",
       "    }\n",
       "\n",
       "    .dataframe tbody tr th {\n",
       "        vertical-align: top;\n",
       "    }\n",
       "\n",
       "    .dataframe thead th {\n",
       "        text-align: right;\n",
       "    }\n",
       "</style>\n",
       "<table border=\"1\" class=\"dataframe\">\n",
       "  <thead>\n",
       "    <tr style=\"text-align: right;\">\n",
       "      <th></th>\n",
       "      <th>Gender</th>\n",
       "      <th>Age</th>\n",
       "      <th>Region_Code</th>\n",
       "      <th>Occupation</th>\n",
       "      <th>Channel_Code</th>\n",
       "      <th>Vintage</th>\n",
       "      <th>Credit_Product</th>\n",
       "      <th>Avg_Account_Balance</th>\n",
       "      <th>Is_Active</th>\n",
       "    </tr>\n",
       "    <tr>\n",
       "      <th>ID</th>\n",
       "      <th></th>\n",
       "      <th></th>\n",
       "      <th></th>\n",
       "      <th></th>\n",
       "      <th></th>\n",
       "      <th></th>\n",
       "      <th></th>\n",
       "      <th></th>\n",
       "      <th></th>\n",
       "    </tr>\n",
       "  </thead>\n",
       "  <tbody>\n",
       "    <tr>\n",
       "      <th>VBENBARO</th>\n",
       "      <td>1</td>\n",
       "      <td>-0.999878</td>\n",
       "      <td>254</td>\n",
       "      <td>0</td>\n",
       "      <td>1</td>\n",
       "      <td>-0.676804</td>\n",
       "      <td>1</td>\n",
       "      <td>-0.452333</td>\n",
       "      <td>0</td>\n",
       "    </tr>\n",
       "    <tr>\n",
       "      <th>CCMEWNKY</th>\n",
       "      <td>1</td>\n",
       "      <td>-0.058563</td>\n",
       "      <td>268</td>\n",
       "      <td>0</td>\n",
       "      <td>2</td>\n",
       "      <td>0.066841</td>\n",
       "      <td>1</td>\n",
       "      <td>-0.240878</td>\n",
       "      <td>0</td>\n",
       "    </tr>\n",
       "    <tr>\n",
       "      <th>VK3KGA9M</th>\n",
       "      <td>1</td>\n",
       "      <td>-0.865404</td>\n",
       "      <td>270</td>\n",
       "      <td>1</td>\n",
       "      <td>1</td>\n",
       "      <td>-1.017641</td>\n",
       "      <td>0</td>\n",
       "      <td>-1.060037</td>\n",
       "      <td>0</td>\n",
       "    </tr>\n",
       "    <tr>\n",
       "      <th>TT8RPZVC</th>\n",
       "      <td>1</td>\n",
       "      <td>-0.999878</td>\n",
       "      <td>272</td>\n",
       "      <td>0</td>\n",
       "      <td>1</td>\n",
       "      <td>-0.428922</td>\n",
       "      <td>0</td>\n",
       "      <td>-0.307219</td>\n",
       "      <td>0</td>\n",
       "    </tr>\n",
       "    <tr>\n",
       "      <th>SHQZEYTZ</th>\n",
       "      <td>0</td>\n",
       "      <td>-0.999878</td>\n",
       "      <td>270</td>\n",
       "      <td>0</td>\n",
       "      <td>1</td>\n",
       "      <td>-0.862715</td>\n",
       "      <td>0</td>\n",
       "      <td>-0.550781</td>\n",
       "      <td>0</td>\n",
       "    </tr>\n",
       "  </tbody>\n",
       "</table>\n",
       "</div>"
      ],
      "text/plain": [
       "          Gender       Age  Region_Code  Occupation  Channel_Code   Vintage  \\\n",
       "ID                                                                            \n",
       "VBENBARO       1 -0.999878          254           0             1 -0.676804   \n",
       "CCMEWNKY       1 -0.058563          268           0             2  0.066841   \n",
       "VK3KGA9M       1 -0.865404          270           1             1 -1.017641   \n",
       "TT8RPZVC       1 -0.999878          272           0             1 -0.428922   \n",
       "SHQZEYTZ       0 -0.999878          270           0             1 -0.862715   \n",
       "\n",
       "          Credit_Product  Avg_Account_Balance  Is_Active  \n",
       "ID                                                        \n",
       "VBENBARO               1            -0.452333          0  \n",
       "CCMEWNKY               1            -0.240878          0  \n",
       "VK3KGA9M               0            -1.060037          0  \n",
       "TT8RPZVC               0            -0.307219          0  \n",
       "SHQZEYTZ               0            -0.550781          0  "
      ]
     },
     "execution_count": 86,
     "metadata": {},
     "output_type": "execute_result"
    }
   ],
   "source": [
    "test.head()"
   ]
  },
  {
   "cell_type": "code",
   "execution_count": 87,
   "metadata": {},
   "outputs": [
    {
     "data": {
      "text/html": [
       "<div>\n",
       "<style scoped>\n",
       "    .dataframe tbody tr th:only-of-type {\n",
       "        vertical-align: middle;\n",
       "    }\n",
       "\n",
       "    .dataframe tbody tr th {\n",
       "        vertical-align: top;\n",
       "    }\n",
       "\n",
       "    .dataframe thead th {\n",
       "        text-align: right;\n",
       "    }\n",
       "</style>\n",
       "<table border=\"1\" class=\"dataframe\">\n",
       "  <thead>\n",
       "    <tr style=\"text-align: right;\">\n",
       "      <th></th>\n",
       "      <th>Gender</th>\n",
       "      <th>Age</th>\n",
       "      <th>Vintage</th>\n",
       "      <th>Credit_Product</th>\n",
       "      <th>Avg_Account_Balance</th>\n",
       "      <th>Is_Active</th>\n",
       "      <th>Is_Lead</th>\n",
       "      <th>Occupation_0</th>\n",
       "      <th>Occupation_1</th>\n",
       "      <th>Occupation_2</th>\n",
       "      <th>...</th>\n",
       "      <th>Region_Code_275</th>\n",
       "      <th>Region_Code_276</th>\n",
       "      <th>Region_Code_277</th>\n",
       "      <th>Region_Code_278</th>\n",
       "      <th>Region_Code_279</th>\n",
       "      <th>Region_Code_280</th>\n",
       "      <th>Region_Code_281</th>\n",
       "      <th>Region_Code_282</th>\n",
       "      <th>Region_Code_283</th>\n",
       "      <th>Region_Code_284</th>\n",
       "    </tr>\n",
       "    <tr>\n",
       "      <th>ID</th>\n",
       "      <th></th>\n",
       "      <th></th>\n",
       "      <th></th>\n",
       "      <th></th>\n",
       "      <th></th>\n",
       "      <th></th>\n",
       "      <th></th>\n",
       "      <th></th>\n",
       "      <th></th>\n",
       "      <th></th>\n",
       "      <th></th>\n",
       "      <th></th>\n",
       "      <th></th>\n",
       "      <th></th>\n",
       "      <th></th>\n",
       "      <th></th>\n",
       "      <th></th>\n",
       "      <th></th>\n",
       "      <th></th>\n",
       "      <th></th>\n",
       "      <th></th>\n",
       "    </tr>\n",
       "  </thead>\n",
       "  <tbody>\n",
       "    <tr>\n",
       "      <th>NNVBBKZB</th>\n",
       "      <td>0</td>\n",
       "      <td>1.898172</td>\n",
       "      <td>-0.224482</td>\n",
       "      <td>0</td>\n",
       "      <td>-0.116348</td>\n",
       "      <td>0</td>\n",
       "      <td>0.0</td>\n",
       "      <td>1</td>\n",
       "      <td>0</td>\n",
       "      <td>0</td>\n",
       "      <td>...</td>\n",
       "      <td>0</td>\n",
       "      <td>0</td>\n",
       "      <td>0</td>\n",
       "      <td>0</td>\n",
       "      <td>0</td>\n",
       "      <td>0</td>\n",
       "      <td>0</td>\n",
       "      <td>0</td>\n",
       "      <td>0</td>\n",
       "      <td>0</td>\n",
       "    </tr>\n",
       "    <tr>\n",
       "      <th>IDD62UNG</th>\n",
       "      <td>0</td>\n",
       "      <td>-1.040223</td>\n",
       "      <td>-0.553120</td>\n",
       "      <td>0</td>\n",
       "      <td>-0.657169</td>\n",
       "      <td>0</td>\n",
       "      <td>0.0</td>\n",
       "      <td>0</td>\n",
       "      <td>1</td>\n",
       "      <td>0</td>\n",
       "      <td>...</td>\n",
       "      <td>0</td>\n",
       "      <td>0</td>\n",
       "      <td>1</td>\n",
       "      <td>0</td>\n",
       "      <td>0</td>\n",
       "      <td>0</td>\n",
       "      <td>0</td>\n",
       "      <td>0</td>\n",
       "      <td>0</td>\n",
       "      <td>0</td>\n",
       "    </tr>\n",
       "    <tr>\n",
       "      <th>HD3DSEMC</th>\n",
       "      <td>0</td>\n",
       "      <td>0.736481</td>\n",
       "      <td>-0.732377</td>\n",
       "      <td>0</td>\n",
       "      <td>0.395211</td>\n",
       "      <td>1</td>\n",
       "      <td>0.0</td>\n",
       "      <td>0</td>\n",
       "      <td>0</td>\n",
       "      <td>1</td>\n",
       "      <td>...</td>\n",
       "      <td>0</td>\n",
       "      <td>0</td>\n",
       "      <td>0</td>\n",
       "      <td>0</td>\n",
       "      <td>0</td>\n",
       "      <td>0</td>\n",
       "      <td>0</td>\n",
       "      <td>0</td>\n",
       "      <td>0</td>\n",
       "      <td>0</td>\n",
       "    </tr>\n",
       "    <tr>\n",
       "      <th>BF3NC7KV</th>\n",
       "      <td>1</td>\n",
       "      <td>-0.766884</td>\n",
       "      <td>-0.941510</td>\n",
       "      <td>0</td>\n",
       "      <td>-0.787251</td>\n",
       "      <td>0</td>\n",
       "      <td>0.0</td>\n",
       "      <td>0</td>\n",
       "      <td>1</td>\n",
       "      <td>0</td>\n",
       "      <td>...</td>\n",
       "      <td>0</td>\n",
       "      <td>0</td>\n",
       "      <td>0</td>\n",
       "      <td>0</td>\n",
       "      <td>0</td>\n",
       "      <td>0</td>\n",
       "      <td>0</td>\n",
       "      <td>0</td>\n",
       "      <td>0</td>\n",
       "      <td>0</td>\n",
       "    </tr>\n",
       "    <tr>\n",
       "      <th>TEASRWXV</th>\n",
       "      <td>0</td>\n",
       "      <td>-1.040223</td>\n",
       "      <td>-0.523243</td>\n",
       "      <td>0</td>\n",
       "      <td>-0.301683</td>\n",
       "      <td>0</td>\n",
       "      <td>0.0</td>\n",
       "      <td>0</td>\n",
       "      <td>1</td>\n",
       "      <td>0</td>\n",
       "      <td>...</td>\n",
       "      <td>0</td>\n",
       "      <td>0</td>\n",
       "      <td>0</td>\n",
       "      <td>0</td>\n",
       "      <td>0</td>\n",
       "      <td>0</td>\n",
       "      <td>0</td>\n",
       "      <td>1</td>\n",
       "      <td>0</td>\n",
       "      <td>0</td>\n",
       "    </tr>\n",
       "  </tbody>\n",
       "</table>\n",
       "<p>5 rows × 50 columns</p>\n",
       "</div>"
      ],
      "text/plain": [
       "          Gender       Age   Vintage  Credit_Product  Avg_Account_Balance  \\\n",
       "ID                                                                          \n",
       "NNVBBKZB       0  1.898172 -0.224482               0            -0.116348   \n",
       "IDD62UNG       0 -1.040223 -0.553120               0            -0.657169   \n",
       "HD3DSEMC       0  0.736481 -0.732377               0             0.395211   \n",
       "BF3NC7KV       1 -0.766884 -0.941510               0            -0.787251   \n",
       "TEASRWXV       0 -1.040223 -0.523243               0            -0.301683   \n",
       "\n",
       "          Is_Active  Is_Lead  Occupation_0  Occupation_1  Occupation_2  ...  \\\n",
       "ID                                                                      ...   \n",
       "NNVBBKZB          0      0.0             1             0             0  ...   \n",
       "IDD62UNG          0      0.0             0             1             0  ...   \n",
       "HD3DSEMC          1      0.0             0             0             1  ...   \n",
       "BF3NC7KV          0      0.0             0             1             0  ...   \n",
       "TEASRWXV          0      0.0             0             1             0  ...   \n",
       "\n",
       "          Region_Code_275  Region_Code_276  Region_Code_277  Region_Code_278  \\\n",
       "ID                                                                             \n",
       "NNVBBKZB                0                0                0                0   \n",
       "IDD62UNG                0                0                1                0   \n",
       "HD3DSEMC                0                0                0                0   \n",
       "BF3NC7KV                0                0                0                0   \n",
       "TEASRWXV                0                0                0                0   \n",
       "\n",
       "          Region_Code_279  Region_Code_280  Region_Code_281  Region_Code_282  \\\n",
       "ID                                                                             \n",
       "NNVBBKZB                0                0                0                0   \n",
       "IDD62UNG                0                0                0                0   \n",
       "HD3DSEMC                0                0                0                0   \n",
       "BF3NC7KV                0                0                0                0   \n",
       "TEASRWXV                0                0                0                1   \n",
       "\n",
       "          Region_Code_283  Region_Code_284  \n",
       "ID                                          \n",
       "NNVBBKZB                0                0  \n",
       "IDD62UNG                0                0  \n",
       "HD3DSEMC                0                0  \n",
       "BF3NC7KV                0                0  \n",
       "TEASRWXV                0                0  \n",
       "\n",
       "[5 rows x 50 columns]"
      ]
     },
     "execution_count": 87,
     "metadata": {},
     "output_type": "execute_result"
    }
   ],
   "source": [
    "'''from sklearn.preprocessing import OneHotEncoder\n",
    "onehotencoder = OneHotEncoder()\n",
    "ohe_cat_cols = [\"Occupation\", \"Channel_Code\"]\n",
    "transformed_trdata = onehotencoder.fit_transform(train[ohe_cat_cols])\n",
    "encoded_trdata = pd.DataFrame(transformed_trdata, index=train.index)\n",
    "train = pd.concat([train, encoded_trdata], axis=1)\n",
    "train.drop(columns=[\"Occupation\", \"Channel_Code\"], inplace=True)\n",
    "train.head()\n",
    "'''\n",
    "\n",
    "train_ohe = train.copy()\n",
    "ohe_cat_cols = [\"Occupation\", \"Channel_Code\",\"Region_Code\"]\n",
    "for col in ohe_cat_cols:\n",
    "    col_ohe = pd.get_dummies(train[col], prefix=col)\n",
    "    train_ohe = pd.concat((train_ohe, col_ohe), axis=1).drop(col, axis=1)\n",
    "train_ohe.head()\n",
    "train = train_ohe.copy()\n",
    "train.head()\n"
   ]
  },
  {
   "cell_type": "code",
   "execution_count": 88,
   "metadata": {},
   "outputs": [
    {
     "data": {
      "text/html": [
       "<div>\n",
       "<style scoped>\n",
       "    .dataframe tbody tr th:only-of-type {\n",
       "        vertical-align: middle;\n",
       "    }\n",
       "\n",
       "    .dataframe tbody tr th {\n",
       "        vertical-align: top;\n",
       "    }\n",
       "\n",
       "    .dataframe thead th {\n",
       "        text-align: right;\n",
       "    }\n",
       "</style>\n",
       "<table border=\"1\" class=\"dataframe\">\n",
       "  <thead>\n",
       "    <tr style=\"text-align: right;\">\n",
       "      <th></th>\n",
       "      <th>Gender</th>\n",
       "      <th>Age</th>\n",
       "      <th>Vintage</th>\n",
       "      <th>Credit_Product</th>\n",
       "      <th>Avg_Account_Balance</th>\n",
       "      <th>Is_Active</th>\n",
       "      <th>Occupation_0</th>\n",
       "      <th>Occupation_1</th>\n",
       "      <th>Occupation_2</th>\n",
       "      <th>Occupation_3</th>\n",
       "      <th>...</th>\n",
       "      <th>Region_Code_275</th>\n",
       "      <th>Region_Code_276</th>\n",
       "      <th>Region_Code_277</th>\n",
       "      <th>Region_Code_278</th>\n",
       "      <th>Region_Code_279</th>\n",
       "      <th>Region_Code_280</th>\n",
       "      <th>Region_Code_281</th>\n",
       "      <th>Region_Code_282</th>\n",
       "      <th>Region_Code_283</th>\n",
       "      <th>Region_Code_284</th>\n",
       "    </tr>\n",
       "    <tr>\n",
       "      <th>ID</th>\n",
       "      <th></th>\n",
       "      <th></th>\n",
       "      <th></th>\n",
       "      <th></th>\n",
       "      <th></th>\n",
       "      <th></th>\n",
       "      <th></th>\n",
       "      <th></th>\n",
       "      <th></th>\n",
       "      <th></th>\n",
       "      <th></th>\n",
       "      <th></th>\n",
       "      <th></th>\n",
       "      <th></th>\n",
       "      <th></th>\n",
       "      <th></th>\n",
       "      <th></th>\n",
       "      <th></th>\n",
       "      <th></th>\n",
       "      <th></th>\n",
       "      <th></th>\n",
       "    </tr>\n",
       "  </thead>\n",
       "  <tbody>\n",
       "    <tr>\n",
       "      <th>VBENBARO</th>\n",
       "      <td>1</td>\n",
       "      <td>-0.999878</td>\n",
       "      <td>-0.676804</td>\n",
       "      <td>1</td>\n",
       "      <td>-0.452333</td>\n",
       "      <td>0</td>\n",
       "      <td>1</td>\n",
       "      <td>0</td>\n",
       "      <td>0</td>\n",
       "      <td>0</td>\n",
       "      <td>...</td>\n",
       "      <td>0</td>\n",
       "      <td>0</td>\n",
       "      <td>0</td>\n",
       "      <td>0</td>\n",
       "      <td>0</td>\n",
       "      <td>0</td>\n",
       "      <td>0</td>\n",
       "      <td>0</td>\n",
       "      <td>0</td>\n",
       "      <td>0</td>\n",
       "    </tr>\n",
       "    <tr>\n",
       "      <th>CCMEWNKY</th>\n",
       "      <td>1</td>\n",
       "      <td>-0.058563</td>\n",
       "      <td>0.066841</td>\n",
       "      <td>1</td>\n",
       "      <td>-0.240878</td>\n",
       "      <td>0</td>\n",
       "      <td>1</td>\n",
       "      <td>0</td>\n",
       "      <td>0</td>\n",
       "      <td>0</td>\n",
       "      <td>...</td>\n",
       "      <td>0</td>\n",
       "      <td>0</td>\n",
       "      <td>0</td>\n",
       "      <td>0</td>\n",
       "      <td>0</td>\n",
       "      <td>0</td>\n",
       "      <td>0</td>\n",
       "      <td>0</td>\n",
       "      <td>0</td>\n",
       "      <td>0</td>\n",
       "    </tr>\n",
       "    <tr>\n",
       "      <th>VK3KGA9M</th>\n",
       "      <td>1</td>\n",
       "      <td>-0.865404</td>\n",
       "      <td>-1.017641</td>\n",
       "      <td>0</td>\n",
       "      <td>-1.060037</td>\n",
       "      <td>0</td>\n",
       "      <td>0</td>\n",
       "      <td>1</td>\n",
       "      <td>0</td>\n",
       "      <td>0</td>\n",
       "      <td>...</td>\n",
       "      <td>0</td>\n",
       "      <td>0</td>\n",
       "      <td>0</td>\n",
       "      <td>0</td>\n",
       "      <td>0</td>\n",
       "      <td>0</td>\n",
       "      <td>0</td>\n",
       "      <td>0</td>\n",
       "      <td>0</td>\n",
       "      <td>0</td>\n",
       "    </tr>\n",
       "    <tr>\n",
       "      <th>TT8RPZVC</th>\n",
       "      <td>1</td>\n",
       "      <td>-0.999878</td>\n",
       "      <td>-0.428922</td>\n",
       "      <td>0</td>\n",
       "      <td>-0.307219</td>\n",
       "      <td>0</td>\n",
       "      <td>1</td>\n",
       "      <td>0</td>\n",
       "      <td>0</td>\n",
       "      <td>0</td>\n",
       "      <td>...</td>\n",
       "      <td>0</td>\n",
       "      <td>0</td>\n",
       "      <td>0</td>\n",
       "      <td>0</td>\n",
       "      <td>0</td>\n",
       "      <td>0</td>\n",
       "      <td>0</td>\n",
       "      <td>0</td>\n",
       "      <td>0</td>\n",
       "      <td>0</td>\n",
       "    </tr>\n",
       "    <tr>\n",
       "      <th>SHQZEYTZ</th>\n",
       "      <td>0</td>\n",
       "      <td>-0.999878</td>\n",
       "      <td>-0.862715</td>\n",
       "      <td>0</td>\n",
       "      <td>-0.550781</td>\n",
       "      <td>0</td>\n",
       "      <td>1</td>\n",
       "      <td>0</td>\n",
       "      <td>0</td>\n",
       "      <td>0</td>\n",
       "      <td>...</td>\n",
       "      <td>0</td>\n",
       "      <td>0</td>\n",
       "      <td>0</td>\n",
       "      <td>0</td>\n",
       "      <td>0</td>\n",
       "      <td>0</td>\n",
       "      <td>0</td>\n",
       "      <td>0</td>\n",
       "      <td>0</td>\n",
       "      <td>0</td>\n",
       "    </tr>\n",
       "  </tbody>\n",
       "</table>\n",
       "<p>5 rows × 49 columns</p>\n",
       "</div>"
      ],
      "text/plain": [
       "          Gender       Age   Vintage  Credit_Product  Avg_Account_Balance  \\\n",
       "ID                                                                          \n",
       "VBENBARO       1 -0.999878 -0.676804               1            -0.452333   \n",
       "CCMEWNKY       1 -0.058563  0.066841               1            -0.240878   \n",
       "VK3KGA9M       1 -0.865404 -1.017641               0            -1.060037   \n",
       "TT8RPZVC       1 -0.999878 -0.428922               0            -0.307219   \n",
       "SHQZEYTZ       0 -0.999878 -0.862715               0            -0.550781   \n",
       "\n",
       "          Is_Active  Occupation_0  Occupation_1  Occupation_2  Occupation_3  \\\n",
       "ID                                                                            \n",
       "VBENBARO          0             1             0             0             0   \n",
       "CCMEWNKY          0             1             0             0             0   \n",
       "VK3KGA9M          0             0             1             0             0   \n",
       "TT8RPZVC          0             1             0             0             0   \n",
       "SHQZEYTZ          0             1             0             0             0   \n",
       "\n",
       "          ...  Region_Code_275  Region_Code_276  Region_Code_277  \\\n",
       "ID        ...                                                      \n",
       "VBENBARO  ...                0                0                0   \n",
       "CCMEWNKY  ...                0                0                0   \n",
       "VK3KGA9M  ...                0                0                0   \n",
       "TT8RPZVC  ...                0                0                0   \n",
       "SHQZEYTZ  ...                0                0                0   \n",
       "\n",
       "          Region_Code_278  Region_Code_279  Region_Code_280  Region_Code_281  \\\n",
       "ID                                                                             \n",
       "VBENBARO                0                0                0                0   \n",
       "CCMEWNKY                0                0                0                0   \n",
       "VK3KGA9M                0                0                0                0   \n",
       "TT8RPZVC                0                0                0                0   \n",
       "SHQZEYTZ                0                0                0                0   \n",
       "\n",
       "          Region_Code_282  Region_Code_283  Region_Code_284  \n",
       "ID                                                           \n",
       "VBENBARO                0                0                0  \n",
       "CCMEWNKY                0                0                0  \n",
       "VK3KGA9M                0                0                0  \n",
       "TT8RPZVC                0                0                0  \n",
       "SHQZEYTZ                0                0                0  \n",
       "\n",
       "[5 rows x 49 columns]"
      ]
     },
     "execution_count": 88,
     "metadata": {},
     "output_type": "execute_result"
    }
   ],
   "source": [
    "test_ohe = test.copy()\n",
    "ohe_cat_cols = [\"Occupation\", \"Channel_Code\",\"Region_Code\"] \n",
    "for col in ohe_cat_cols:\n",
    "    col_ohe = pd.get_dummies(test[col], prefix=col)\n",
    "    test_ohe = pd.concat((test_ohe, col_ohe), axis=1).drop(col, axis=1)\n",
    "test_ohe.head()\n",
    "test = test_ohe.copy()\n",
    "test.head()"
   ]
  },
  {
   "cell_type": "code",
   "execution_count": 89,
   "metadata": {},
   "outputs": [
    {
     "name": "stdout",
     "output_type": "stream",
     "text": [
      "                feature       VIF\n",
      "0                Gender  1.042730\n",
      "1                   Age  2.600377\n",
      "2               Vintage  2.092963\n",
      "3        Credit_Product  1.212915\n",
      "4   Avg_Account_Balance  1.170785\n",
      "5             Is_Active  1.124298\n",
      "6          Occupation_0       inf\n",
      "7          Occupation_1       inf\n",
      "8          Occupation_2       inf\n",
      "9          Occupation_3       inf\n",
      "10       Channel_Code_1       inf\n",
      "11       Channel_Code_2       inf\n",
      "12       Channel_Code_3       inf\n",
      "13       Channel_Code_4       inf\n",
      "14      Region_Code_250       inf\n",
      "15      Region_Code_251       inf\n",
      "16      Region_Code_252       inf\n",
      "17      Region_Code_253       inf\n",
      "18      Region_Code_254       inf\n",
      "19      Region_Code_255       inf\n",
      "20      Region_Code_256       inf\n",
      "21      Region_Code_257       inf\n",
      "22      Region_Code_258       inf\n",
      "23      Region_Code_259       inf\n",
      "24      Region_Code_260       inf\n",
      "25      Region_Code_261       inf\n",
      "26      Region_Code_262       inf\n",
      "27      Region_Code_263       inf\n",
      "28      Region_Code_264       inf\n",
      "29      Region_Code_265       inf\n",
      "30      Region_Code_266       inf\n",
      "31      Region_Code_267       inf\n",
      "32      Region_Code_268       inf\n",
      "33      Region_Code_269       inf\n",
      "34      Region_Code_270       inf\n",
      "35      Region_Code_271       inf\n",
      "36      Region_Code_272       inf\n",
      "37      Region_Code_273       inf\n",
      "38      Region_Code_274       inf\n",
      "39      Region_Code_275       inf\n",
      "40      Region_Code_276       inf\n",
      "41      Region_Code_277       inf\n",
      "42      Region_Code_278       inf\n",
      "43      Region_Code_279       inf\n",
      "44      Region_Code_280       inf\n",
      "45      Region_Code_281       inf\n",
      "46      Region_Code_282       inf\n",
      "47      Region_Code_283       inf\n",
      "48      Region_Code_284       inf\n"
     ]
    }
   ],
   "source": [
    "from statsmodels.stats.outliers_influence import variance_inflation_factor\n",
    "\n",
    "ind_X = train.select_dtypes(include=np.number).drop(columns=['Is_Lead'])\n",
    "vif_data = pd.DataFrame()\n",
    "vif_data['feature'] = ind_X.columns\n",
    "vif_data['VIF'] = [variance_inflation_factor(ind_X.values,i) for i in range(len(ind_X.columns))]\n",
    "print(vif_data)"
   ]
  },
  {
   "cell_type": "markdown",
   "metadata": {},
   "source": [
    "##### Model Building"
   ]
  },
  {
   "cell_type": "code",
   "execution_count": 90,
   "metadata": {},
   "outputs": [
    {
     "name": "stdout",
     "output_type": "stream",
     "text": [
      "<class 'pandas.core.frame.DataFrame'>\n",
      "Index: 316586 entries, NNVBBKZB to VXDJUR2O\n",
      "Data columns (total 50 columns):\n",
      " #   Column               Non-Null Count   Dtype  \n",
      "---  ------               --------------   -----  \n",
      " 0   Gender               316586 non-null  int32  \n",
      " 1   Age                  316586 non-null  float64\n",
      " 2   Vintage              316586 non-null  float64\n",
      " 3   Credit_Product       316586 non-null  int32  \n",
      " 4   Avg_Account_Balance  316586 non-null  float64\n",
      " 5   Is_Active            316586 non-null  int32  \n",
      " 6   Is_Lead              316586 non-null  float64\n",
      " 7   Occupation_0         316586 non-null  uint8  \n",
      " 8   Occupation_1         316586 non-null  uint8  \n",
      " 9   Occupation_2         316586 non-null  uint8  \n",
      " 10  Occupation_3         316586 non-null  uint8  \n",
      " 11  Channel_Code_1       316586 non-null  uint8  \n",
      " 12  Channel_Code_2       316586 non-null  uint8  \n",
      " 13  Channel_Code_3       316586 non-null  uint8  \n",
      " 14  Channel_Code_4       316586 non-null  uint8  \n",
      " 15  Region_Code_250      316586 non-null  uint8  \n",
      " 16  Region_Code_251      316586 non-null  uint8  \n",
      " 17  Region_Code_252      316586 non-null  uint8  \n",
      " 18  Region_Code_253      316586 non-null  uint8  \n",
      " 19  Region_Code_254      316586 non-null  uint8  \n",
      " 20  Region_Code_255      316586 non-null  uint8  \n",
      " 21  Region_Code_256      316586 non-null  uint8  \n",
      " 22  Region_Code_257      316586 non-null  uint8  \n",
      " 23  Region_Code_258      316586 non-null  uint8  \n",
      " 24  Region_Code_259      316586 non-null  uint8  \n",
      " 25  Region_Code_260      316586 non-null  uint8  \n",
      " 26  Region_Code_261      316586 non-null  uint8  \n",
      " 27  Region_Code_262      316586 non-null  uint8  \n",
      " 28  Region_Code_263      316586 non-null  uint8  \n",
      " 29  Region_Code_264      316586 non-null  uint8  \n",
      " 30  Region_Code_265      316586 non-null  uint8  \n",
      " 31  Region_Code_266      316586 non-null  uint8  \n",
      " 32  Region_Code_267      316586 non-null  uint8  \n",
      " 33  Region_Code_268      316586 non-null  uint8  \n",
      " 34  Region_Code_269      316586 non-null  uint8  \n",
      " 35  Region_Code_270      316586 non-null  uint8  \n",
      " 36  Region_Code_271      316586 non-null  uint8  \n",
      " 37  Region_Code_272      316586 non-null  uint8  \n",
      " 38  Region_Code_273      316586 non-null  uint8  \n",
      " 39  Region_Code_274      316586 non-null  uint8  \n",
      " 40  Region_Code_275      316586 non-null  uint8  \n",
      " 41  Region_Code_276      316586 non-null  uint8  \n",
      " 42  Region_Code_277      316586 non-null  uint8  \n",
      " 43  Region_Code_278      316586 non-null  uint8  \n",
      " 44  Region_Code_279      316586 non-null  uint8  \n",
      " 45  Region_Code_280      316586 non-null  uint8  \n",
      " 46  Region_Code_281      316586 non-null  uint8  \n",
      " 47  Region_Code_282      316586 non-null  uint8  \n",
      " 48  Region_Code_283      316586 non-null  uint8  \n",
      " 49  Region_Code_284      316586 non-null  uint8  \n",
      "dtypes: float64(4), int32(3), uint8(43)\n",
      "memory usage: 28.7+ MB\n",
      "<class 'pandas.core.frame.DataFrame'>\n",
      "Index: 105312 entries, VBENBARO to F2NOYPPZ\n",
      "Data columns (total 49 columns):\n",
      " #   Column               Non-Null Count   Dtype  \n",
      "---  ------               --------------   -----  \n",
      " 0   Gender               105312 non-null  int32  \n",
      " 1   Age                  105312 non-null  float64\n",
      " 2   Vintage              105312 non-null  float64\n",
      " 3   Credit_Product       105312 non-null  int32  \n",
      " 4   Avg_Account_Balance  105312 non-null  float64\n",
      " 5   Is_Active            105312 non-null  int32  \n",
      " 6   Occupation_0         105312 non-null  uint8  \n",
      " 7   Occupation_1         105312 non-null  uint8  \n",
      " 8   Occupation_2         105312 non-null  uint8  \n",
      " 9   Occupation_3         105312 non-null  uint8  \n",
      " 10  Channel_Code_1       105312 non-null  uint8  \n",
      " 11  Channel_Code_2       105312 non-null  uint8  \n",
      " 12  Channel_Code_3       105312 non-null  uint8  \n",
      " 13  Channel_Code_4       105312 non-null  uint8  \n",
      " 14  Region_Code_250      105312 non-null  uint8  \n",
      " 15  Region_Code_251      105312 non-null  uint8  \n",
      " 16  Region_Code_252      105312 non-null  uint8  \n",
      " 17  Region_Code_253      105312 non-null  uint8  \n",
      " 18  Region_Code_254      105312 non-null  uint8  \n",
      " 19  Region_Code_255      105312 non-null  uint8  \n",
      " 20  Region_Code_256      105312 non-null  uint8  \n",
      " 21  Region_Code_257      105312 non-null  uint8  \n",
      " 22  Region_Code_258      105312 non-null  uint8  \n",
      " 23  Region_Code_259      105312 non-null  uint8  \n",
      " 24  Region_Code_260      105312 non-null  uint8  \n",
      " 25  Region_Code_261      105312 non-null  uint8  \n",
      " 26  Region_Code_262      105312 non-null  uint8  \n",
      " 27  Region_Code_263      105312 non-null  uint8  \n",
      " 28  Region_Code_264      105312 non-null  uint8  \n",
      " 29  Region_Code_265      105312 non-null  uint8  \n",
      " 30  Region_Code_266      105312 non-null  uint8  \n",
      " 31  Region_Code_267      105312 non-null  uint8  \n",
      " 32  Region_Code_268      105312 non-null  uint8  \n",
      " 33  Region_Code_269      105312 non-null  uint8  \n",
      " 34  Region_Code_270      105312 non-null  uint8  \n",
      " 35  Region_Code_271      105312 non-null  uint8  \n",
      " 36  Region_Code_272      105312 non-null  uint8  \n",
      " 37  Region_Code_273      105312 non-null  uint8  \n",
      " 38  Region_Code_274      105312 non-null  uint8  \n",
      " 39  Region_Code_275      105312 non-null  uint8  \n",
      " 40  Region_Code_276      105312 non-null  uint8  \n",
      " 41  Region_Code_277      105312 non-null  uint8  \n",
      " 42  Region_Code_278      105312 non-null  uint8  \n",
      " 43  Region_Code_279      105312 non-null  uint8  \n",
      " 44  Region_Code_280      105312 non-null  uint8  \n",
      " 45  Region_Code_281      105312 non-null  uint8  \n",
      " 46  Region_Code_282      105312 non-null  uint8  \n",
      " 47  Region_Code_283      105312 non-null  uint8  \n",
      " 48  Region_Code_284      105312 non-null  uint8  \n",
      "dtypes: float64(3), int32(3), uint8(43)\n",
      "memory usage: 8.7+ MB\n"
     ]
    },
    {
     "data": {
      "text/plain": [
       "(None, None)"
      ]
     },
     "execution_count": 90,
     "metadata": {},
     "output_type": "execute_result"
    }
   ],
   "source": [
    "train.info(), test.info()"
   ]
  },
  {
   "cell_type": "code",
   "execution_count": 91,
   "metadata": {},
   "outputs": [],
   "source": [
    "# Seperate Features and Target\n",
    "y = train[\"Is_Lead\"]\n",
    "X = train.drop(columns = [\"Is_Lead\"], axis=1)\n"
   ]
  },
  {
   "cell_type": "code",
   "execution_count": 92,
   "metadata": {},
   "outputs": [
    {
     "data": {
      "text/plain": [
       "((316586, 49), (316586,))"
      ]
     },
     "execution_count": 92,
     "metadata": {},
     "output_type": "execute_result"
    }
   ],
   "source": [
    "X.shape, y.shape"
   ]
  },
  {
   "cell_type": "code",
   "execution_count": null,
   "metadata": {},
   "outputs": [],
   "source": []
  },
  {
   "cell_type": "code",
   "execution_count": 93,
   "metadata": {},
   "outputs": [],
   "source": [
    "# 20% data as validation set\n",
    "train_X,valid_X,train_y,valid_y = train_test_split(X,y,test_size=0.2,random_state=22\n",
    "                                                  ,stratify=train_oversample_y,shuffle=True)"
   ]
  },
  {
   "cell_type": "code",
   "execution_count": 94,
   "metadata": {},
   "outputs": [
    {
     "data": {
      "text/plain": [
       "LogisticRegression(max_iter=10000)"
      ]
     },
     "execution_count": 94,
     "metadata": {},
     "output_type": "execute_result"
    }
   ],
   "source": [
    "#LogReg=LogisticRegression( C=1.0,max_iter = 100, penalty='l1', solver='saga',tol=0.0001)\n",
    "#LogReg=LogisticRegression(max_iter=300,penalty='l1', solver= 'liblinear')\n",
    "\n",
    "model = LogisticRegression(max_iter=10000)\n",
    "#model = LogisticRegression(max_iter=300,penalty='l1', solver= 'liblinear')\n",
    "#model = LogisticRegression( C=1.0,max_iter = 100, penalty='l1', solver='saga',tol=0.0001)\n",
    "model.fit(train_X,train_y)"
   ]
  },
  {
   "cell_type": "code",
   "execution_count": 95,
   "metadata": {},
   "outputs": [
    {
     "data": {
      "text/plain": [
       "(array([[ 0.03603035,  0.14681645,  0.32893475,  2.21313982, -0.03242382,\n",
       "          0.38399072, -0.71955529,  0.16378074, -0.6130249 ,  0.08910398,\n",
       "         -0.90542872,  0.0418728 , -0.11283743, -0.10330211, -0.24461584,\n",
       "          0.08814501, -0.0428335 , -0.06886027, -0.07576193, -0.02383397,\n",
       "         -0.09961059,  0.10466748,  0.09195745, -0.09638361,  0.01953381,\n",
       "         -0.12000994, -0.13468195,  0.1297458 , -0.14274832, -0.03250751,\n",
       "         -0.14303354, -0.44635049,  0.04062731,  0.16769434,  0.04887951,\n",
       "         -0.1678715 ,  0.02584284,  0.1214731 , -0.12172666, -0.20662098,\n",
       "          0.07328123,  0.15216354, -0.16641309,  0.14637635,  0.08529154,\n",
       "         -0.05518193, -0.02980614,  0.01997228,  0.02350471]]),\n",
       " array([-1.09565755]))"
      ]
     },
     "execution_count": 95,
     "metadata": {},
     "output_type": "execute_result"
    }
   ],
   "source": [
    "model.coef_, model.intercept_"
   ]
  },
  {
   "cell_type": "code",
   "execution_count": 96,
   "metadata": {},
   "outputs": [
    {
     "data": {
      "text/plain": [
       "array([ 0.03603035,  0.14681645,  0.32893475,  2.21313982, -0.03242382,\n",
       "        0.38399072, -0.71955529,  0.16378074, -0.6130249 ,  0.08910398,\n",
       "       -0.90542872,  0.0418728 , -0.11283743, -0.10330211, -0.24461584,\n",
       "        0.08814501, -0.0428335 , -0.06886027, -0.07576193, -0.02383397,\n",
       "       -0.09961059,  0.10466748,  0.09195745, -0.09638361,  0.01953381,\n",
       "       -0.12000994, -0.13468195,  0.1297458 , -0.14274832, -0.03250751,\n",
       "       -0.14303354, -0.44635049,  0.04062731,  0.16769434,  0.04887951,\n",
       "       -0.1678715 ,  0.02584284,  0.1214731 , -0.12172666, -0.20662098,\n",
       "        0.07328123,  0.15216354, -0.16641309,  0.14637635,  0.08529154,\n",
       "       -0.05518193, -0.02980614,  0.01997228,  0.02350471])"
      ]
     },
     "execution_count": 96,
     "metadata": {},
     "output_type": "execute_result"
    }
   ],
   "source": [
    "model.coef_[0]"
   ]
  },
  {
   "cell_type": "code",
   "execution_count": 97,
   "metadata": {},
   "outputs": [
    {
     "data": {
      "text/plain": [
       "Index(['Gender', 'Age', 'Vintage', 'Credit_Product', 'Avg_Account_Balance',\n",
       "       'Is_Active', 'Occupation_0', 'Occupation_1', 'Occupation_2',\n",
       "       'Occupation_3', 'Channel_Code_1', 'Channel_Code_2', 'Channel_Code_3',\n",
       "       'Channel_Code_4', 'Region_Code_250', 'Region_Code_251',\n",
       "       'Region_Code_252', 'Region_Code_253', 'Region_Code_254',\n",
       "       'Region_Code_255', 'Region_Code_256', 'Region_Code_257',\n",
       "       'Region_Code_258', 'Region_Code_259', 'Region_Code_260',\n",
       "       'Region_Code_261', 'Region_Code_262', 'Region_Code_263',\n",
       "       'Region_Code_264', 'Region_Code_265', 'Region_Code_266',\n",
       "       'Region_Code_267', 'Region_Code_268', 'Region_Code_269',\n",
       "       'Region_Code_270', 'Region_Code_271', 'Region_Code_272',\n",
       "       'Region_Code_273', 'Region_Code_274', 'Region_Code_275',\n",
       "       'Region_Code_276', 'Region_Code_277', 'Region_Code_278',\n",
       "       'Region_Code_279', 'Region_Code_280', 'Region_Code_281',\n",
       "       'Region_Code_282', 'Region_Code_283', 'Region_Code_284'],\n",
       "      dtype='object')"
      ]
     },
     "execution_count": 97,
     "metadata": {},
     "output_type": "execute_result"
    }
   ],
   "source": [
    "features = train_X.columns\n",
    "features\n"
   ]
  },
  {
   "cell_type": "code",
   "execution_count": 98,
   "metadata": {},
   "outputs": [
    {
     "data": {
      "text/plain": [
       "['Gender',\n",
       " 'Age',\n",
       " 'Vintage',\n",
       " 'Credit_Product',\n",
       " 'Avg_Account_Balance',\n",
       " 'Is_Active',\n",
       " 'Occupation_0',\n",
       " 'Occupation_1',\n",
       " 'Occupation_2',\n",
       " 'Occupation_3',\n",
       " 'Channel_Code_1',\n",
       " 'Channel_Code_2',\n",
       " 'Channel_Code_3',\n",
       " 'Channel_Code_4',\n",
       " 'Region_Code_250',\n",
       " 'Region_Code_251',\n",
       " 'Region_Code_252',\n",
       " 'Region_Code_253',\n",
       " 'Region_Code_254',\n",
       " 'Region_Code_255',\n",
       " 'Region_Code_256',\n",
       " 'Region_Code_257',\n",
       " 'Region_Code_258',\n",
       " 'Region_Code_259',\n",
       " 'Region_Code_260',\n",
       " 'Region_Code_261',\n",
       " 'Region_Code_262',\n",
       " 'Region_Code_263',\n",
       " 'Region_Code_264',\n",
       " 'Region_Code_265',\n",
       " 'Region_Code_266',\n",
       " 'Region_Code_267',\n",
       " 'Region_Code_268',\n",
       " 'Region_Code_269',\n",
       " 'Region_Code_270',\n",
       " 'Region_Code_271',\n",
       " 'Region_Code_272',\n",
       " 'Region_Code_273',\n",
       " 'Region_Code_274',\n",
       " 'Region_Code_275',\n",
       " 'Region_Code_276',\n",
       " 'Region_Code_277',\n",
       " 'Region_Code_278',\n",
       " 'Region_Code_279',\n",
       " 'Region_Code_280',\n",
       " 'Region_Code_281',\n",
       " 'Region_Code_282',\n",
       " 'Region_Code_283',\n",
       " 'Region_Code_284']"
      ]
     },
     "execution_count": 98,
     "metadata": {},
     "output_type": "execute_result"
    }
   ],
   "source": [
    "cols = list(train_X.columns)\n",
    "cols"
   ]
  },
  {
   "cell_type": "code",
   "execution_count": 99,
   "metadata": {},
   "outputs": [],
   "source": [
    "len(model.coef_[0]), len(features), len(cols)\n",
    "coef = pd.Series(model.coef_[0],cols).sort_values()"
   ]
  },
  {
   "cell_type": "code",
   "execution_count": 100,
   "metadata": {},
   "outputs": [
    {
     "data": {
      "text/plain": [
       "<AxesSubplot:>"
      ]
     },
     "execution_count": 100,
     "metadata": {},
     "output_type": "execute_result"
    },
    {
     "data": {
      "image/png": "[encoded data removed]",
      "text/plain": [
       "<Figure size 576x360 with 1 Axes>"
      ]
     },
     "metadata": {
      "needs_background": "light"
     },
     "output_type": "display_data"
    }
   ],
   "source": [
    "plt.figure(figsize=(8,5))\n",
    "sns.barplot(coef,features)"
   ]
  },
  {
   "cell_type": "code",
   "execution_count": 101,
   "metadata": {},
   "outputs": [
    {
     "data": {
      "text/plain": [
       "<AxesSubplot:>"
      ]
     },
     "execution_count": 101,
     "metadata": {},
     "output_type": "execute_result"
    },
    {
     "data": {
      "image/png": "[encoded data removed]",
      "text/plain": [
       "<Figure size 576x360 with 1 Axes>"
      ]
     },
     "metadata": {
      "needs_background": "light"
     },
     "output_type": "display_data"
    }
   ],
   "source": [
    "plt.figure(figsize=(8,5))\n",
    "sns.barplot(model.coef_[0],features)"
   ]
  },
  {
   "cell_type": "code",
   "execution_count": 102,
   "metadata": {},
   "outputs": [],
   "source": [
    "pred_train = model.predict(train_X)"
   ]
  },
  {
   "cell_type": "code",
   "execution_count": 103,
   "metadata": {},
   "outputs": [
    {
     "name": "stdout",
     "output_type": "stream",
     "text": [
      "Train Confusion matrix :\n",
      " [[118910  31039]\n",
      " [ 25234  78085]]\n",
      "Accuracy Score : 0.7778124358387163\n",
      "ROC_AUC Score : 0.7743845383677156\n",
      "classification report :\n",
      "               precision    recall  f1-score   support\n",
      "\n",
      "         0.0       0.82      0.79      0.81    149949\n",
      "         1.0       0.72      0.76      0.74    103319\n",
      "\n",
      "    accuracy                           0.78    253268\n",
      "   macro avg       0.77      0.77      0.77    253268\n",
      "weighted avg       0.78      0.78      0.78    253268\n",
      "\n"
     ]
    }
   ],
   "source": [
    "print(\"Train Confusion matrix :\\n\",confusion_matrix(train_y,pred_train))\n",
    "print(\"Accuracy Score :\",accuracy_score(train_y,pred_train))\n",
    "print(\"ROC_AUC Score :\",roc_auc_score(train_y,pred_train))\n",
    "print(\"classification report :\\n\",classification_report(train_y,pred_train))"
   ]
  },
  {
   "cell_type": "code",
   "execution_count": 104,
   "metadata": {},
   "outputs": [],
   "source": [
    "pred_valid = model.predict(valid_X)"
   ]
  },
  {
   "cell_type": "code",
   "execution_count": 105,
   "metadata": {},
   "outputs": [
    {
     "name": "stdout",
     "output_type": "stream",
     "text": [
      "Validation Confusion matrix :\n",
      " [[29542  7946]\n",
      " [ 6235 19595]]\n",
      "Accuracy Score : 0.7760352506396285\n",
      "ROC_AUC Score : 0.7733264269033764\n",
      "classification report :\n",
      "               precision    recall  f1-score   support\n",
      "\n",
      "         0.0       0.83      0.79      0.81     37488\n",
      "         1.0       0.71      0.76      0.73     25830\n",
      "\n",
      "    accuracy                           0.78     63318\n",
      "   macro avg       0.77      0.77      0.77     63318\n",
      "weighted avg       0.78      0.78      0.78     63318\n",
      "\n"
     ]
    }
   ],
   "source": [
    "print(\"Validation Confusion matrix :\\n\",confusion_matrix(valid_y,pred_valid))\n",
    "print(\"Accuracy Score :\",accuracy_score(valid_y,pred_valid))\n",
    "print(\"ROC_AUC Score :\",roc_auc_score(valid_y,pred_valid))\n",
    "print(\"classification report :\\n\",classification_report(valid_y,pred_valid))"
   ]
  },
  {
   "cell_type": "code",
   "execution_count": 106,
   "metadata": {},
   "outputs": [
    {
     "data": {
      "text/plain": [
       "\"\\nsubmission = pd.read_csv('sample_submission_eyYijxG.csv')\\nfinal_predictions = model.predict(test)\\nsubmission['Is_Lead'] = final_predictions\\n#only positive predictions for the target variable\\n#submission['Item_Outlet_Sales'] = submission['Item_Outlet_Sales'].apply(lambda x: 0 if x<0 else x)\\nsubmission.to_csv('my_submission_LoR2.csv', index=False)\\n\""
      ]
     },
     "execution_count": 106,
     "metadata": {},
     "output_type": "execute_result"
    }
   ],
   "source": [
    "'''\n",
    "submission = pd.read_csv('sample_submission_eyYijxG.csv')\n",
    "final_predictions = model.predict(test)\n",
    "submission['Is_Lead'] = final_predictions\n",
    "#only positive predictions for the target variable\n",
    "#submission['Item_Outlet_Sales'] = submission['Item_Outlet_Sales'].apply(lambda x: 0 if x<0 else x)\n",
    "submission.to_csv('my_submission_LoR2.csv', index=False)\n",
    "'''"
   ]
  },
  {
   "cell_type": "code",
   "execution_count": 107,
   "metadata": {},
   "outputs": [
    {
     "data": {
      "image/png": "[encoded data removed]",
      "text/plain": [
       "<Figure size 720x576 with 2 Axes>"
      ]
     },
     "metadata": {
      "needs_background": "light"
     },
     "output_type": "display_data"
    }
   ],
   "source": [
    "plt.figure(figsize=(10,8))\n",
    "sns.heatmap(train.corr())\n",
    "plt.show()"
   ]
  },
  {
   "cell_type": "raw",
   "metadata": {},
   "source": [
    "#!pip install xgboost"
   ]
  },
  {
   "cell_type": "code",
   "execution_count": 109,
   "metadata": {},
   "outputs": [],
   "source": [
    "def run_model_validate(model, train_X, train_y, valid_X, valid_y):\n",
    "    model.fit(train_X, train_y)\n",
    "    pred_train = model.predict(train_X)\n",
    "    pred_test = model.predict(valid_X)\n",
    "    print(80*'*')\n",
    "    print(\"Model Name : \",str(model).split('(')[0])\n",
    "    classifier_metric_res('train',train_y, pred_train)\n",
    "    score=cross_val_score(model,train_X,train_y,cv=12,scoring='accuracy')\n",
    "    classifier_metric_res('valid',valid_y, pred_test)\n",
    "    return model,score.mean(), accuracy_score(valid_y,pred_test), f1_score(valid_y,pred_test), roc_auc_score(valid_y,pred_test)"
   ]
  },
  {
   "cell_type": "code",
   "execution_count": 110,
   "metadata": {},
   "outputs": [],
   "source": [
    "def model_predict(model,test_X,test):\n",
    "    test_pred_y = model.predict(test_X)\n",
    "    #submission_file_generation(model,test_X,test_pred_y,test)\n",
    "    return"
   ]
  },
  {
   "cell_type": "code",
   "execution_count": 111,
   "metadata": {},
   "outputs": [],
   "source": [
    " def classifier_metric_res(train_or_test,acctual, pred):\n",
    "    print(train_or_test,\" confusion_matrix \\n\", confusion_matrix(acctual, pred))\n",
    "    print(train_or_test,\" accuracy_score     : \", accuracy_score(acctual, pred))\n",
    "    print(train_or_test,\" recall_score       : \", recall_score(acctual, pred))\n",
    "    print(train_or_test,\" precision_score    : \", precision_score(acctual, pred))\n",
    "    print(train_or_test,\" f1_score           : \", f1_score(acctual, pred))\n",
    "    print(train_or_test,\" roc_auc_score      : \", roc_auc_score(acctual, pred))\n",
    "    print(train_or_test,\" classification report \\n\", classification_report(acctual, pred))\n",
    "    return "
   ]
  },
  {
   "cell_type": "code",
   "execution_count": null,
   "metadata": {},
   "outputs": [],
   "source": []
  },
  {
   "cell_type": "markdown",
   "metadata": {},
   "source": [
    "### all the below are commented to run only the RFC \n",
    "### and LGBM instead of running all the models which were executed to find the accuracy"
   ]
  },
  {
   "cell_type": "raw",
   "metadata": {},
   "source": [
    "from sklearn.naive_bayes import GaussianNB\n",
    "from sklearn.tree import DecisionTreeClassifier\n",
    "from sklearn.neighbors import KNeighborsClassifier\n",
    "from sklearn.ensemble import RandomForestClassifier\n",
    "from sklearn.ensemble import GradientBoostingClassifier\n",
    "from sklearn.ensemble import AdaBoostClassifier\n",
    "from xgboost import XGBClassifier\n",
    "from sklearn import svm\n",
    "from sklearn.metrics import classification_report,confusion_matrix,accuracy_score,recall_score,precision_score,f1_score,roc_auc_score\n",
    "\n",
    "LogReg = LogisticRegression(max_iter=300,penalty='l1', solver= 'liblinear')\n",
    "NaiveGB = GaussianNB(var_smoothing= 0.0001)\n",
    "DecisionTree=DecisionTreeClassifier(max_features='sqrt', min_samples_split= 10)\n",
    "KNNClassifier = KNeighborsClassifier(metric='manhattan', n_neighbors= 15, weights= 'uniform')\n",
    "#n_neighbors=9,leaf_size=25,metric='manhattan',weights='distance\n",
    "RFCClassifier = RandomForestClassifier(max_features= 'auto', min_samples_split= 8, n_estimators=30)\n",
    "GBClassifier = GradientBoostingClassifier(learning_rate= 0.1, max_depth= 6, min_samples_split= 14, n_estimators= 25)\n",
    "AdaBoost = AdaBoostClassifier(learning_rate= 0.1, n_estimators= 100)\n",
    "XGBClf = XGBClassifier(eta= 0.1, gamma= 0.1, max_depth= 3)\n",
    "#eta= 1e-08, gamma= 1e-08, max_depth= 7\n",
    "#SVMClf = svm.SVC(C= 150, degree= 2, gamma= 'scale', kernel= 'rbf')"
   ]
  },
  {
   "cell_type": "raw",
   "metadata": {},
   "source": [
    "models = [LogReg,NaiveGB,DecisionTree,KNNClassifier,RFCClassifier,GBClassifier,AdaBoost,XGBClf]#,SVMClf]\n",
    "\n",
    "#Linear Models Group\n",
    "LnProbModels = [LogReg,NaiveGB]\n",
    "# Tree based Models Group\n",
    "DTreeModels = [DecisionTree,KNNClassifier,RFCClassifier]\n",
    "#ClassModels = [SVMClf]\n",
    "# Boosting based Models Group\n",
    "BoostingModels = [GBClassifier,AdaBoost, XGBClf]"
   ]
  },
  {
   "cell_type": "raw",
   "metadata": {},
   "source": [
    "results=[]\n",
    "for model in models:\n",
    "        model_name,cv_score,accuracy,f1Score,rocaucScore = run_model_validate(model, train_X, train_y, valid_X, valid_y)\n",
    "#        model_name,cv_score,accuracy,f1Score = run_model_validate(model, df_train_scaled_X, df_train_scaled_y, df_train_test_scaled_X, df_train_test_scaled_y)\n",
    "#        test_pred_y=model_predict(model,df_test_pre_scaled_X,df_test_pre1)\n",
    "        if (model == RFCClassifier):\n",
    "            rfc_model = model\n",
    "        results.append([str(model_name).split('(')[0],cv_score,accuracy,f1Score,rocaucScore])\n",
    "print(80*'*')\n",
    "print (50*'-')\n",
    "print(pd.DataFrame(results,columns=['Model','cv_scr_Accuracy','Accuracy','F1-Score','ROC-AUC-Scr']))\n",
    "print (50*'-')"
   ]
  },
  {
   "cell_type": "code",
   "execution_count": 112,
   "metadata": {},
   "outputs": [
    {
     "name": "stdout",
     "output_type": "stream",
     "text": [
      "********************************************************************************\n",
      "Model Name :  RandomForestClassifier\n",
      "train  confusion_matrix \n",
      " [[143586   6363]\n",
      " [  5877  97442]]\n",
      "train  accuracy_score     :  0.9516717469242068\n",
      "train  recall_score       :  0.9431179163561397\n",
      "train  precision_score    :  0.9387023746447666\n",
      "train  f1_score           :  0.9409049651416543\n",
      "train  roc_auc_score      :  0.95034174432536\n",
      "train  classification report \n",
      "               precision    recall  f1-score   support\n",
      "\n",
      "         0.0       0.96      0.96      0.96    149949\n",
      "         1.0       0.94      0.94      0.94    103319\n",
      "\n",
      "    accuracy                           0.95    253268\n",
      "   macro avg       0.95      0.95      0.95    253268\n",
      "weighted avg       0.95      0.95      0.95    253268\n",
      "\n",
      "valid  confusion_matrix \n",
      " [[32164  5324]\n",
      " [ 3530 22300]]\n",
      "valid  accuracy_score     :  0.860166145487855\n",
      "valid  recall_score       :  0.8633372048006195\n",
      "valid  precision_score    :  0.8072690414132638\n",
      "valid  f1_score           :  0.834362255397164\n",
      "valid  roc_auc_score      :  0.8606592127289483\n",
      "valid  classification report \n",
      "               precision    recall  f1-score   support\n",
      "\n",
      "         0.0       0.90      0.86      0.88     37488\n",
      "         1.0       0.81      0.86      0.83     25830\n",
      "\n",
      "    accuracy                           0.86     63318\n",
      "   macro avg       0.85      0.86      0.86     63318\n",
      "weighted avg       0.86      0.86      0.86     63318\n",
      "\n",
      "['RandomForestClassifier', 0.8550507512988649, 0.860166145487855, 0.834362255397164, 0.8606592127289483]\n"
     ]
    }
   ],
   "source": [
    "from sklearn.ensemble import RandomForestClassifier\n",
    "from sklearn.metrics import classification_report,confusion_matrix,accuracy_score,recall_score,precision_score,f1_score,roc_auc_score\n",
    "RFCClassifier = RandomForestClassifier(max_features= 'auto', min_samples_split= 8, n_estimators=30)\n",
    "model = [RFCClassifier]\n",
    "model_name,cv_score,accuracy,f1Score,rocaucScore = run_model_validate(RFCClassifier, train_X, train_y, valid_X, valid_y)\n",
    "print([str(model_name).split('(')[0],cv_score,accuracy,f1Score,rocaucScore])"
   ]
  },
  {
   "cell_type": "code",
   "execution_count": 113,
   "metadata": {},
   "outputs": [
    {
     "data": {
      "text/plain": [
       "((253268, 49), (253268,), (63318, 49), (63318,), (105312, 49))"
      ]
     },
     "execution_count": 113,
     "metadata": {},
     "output_type": "execute_result"
    }
   ],
   "source": [
    "train_X.shape, train_y.shape, valid_X.shape, valid_y.shape, test.shape"
   ]
  },
  {
   "cell_type": "code",
   "execution_count": 114,
   "metadata": {},
   "outputs": [
    {
     "data": {
      "text/html": [
       "<div>\n",
       "<style scoped>\n",
       "    .dataframe tbody tr th:only-of-type {\n",
       "        vertical-align: middle;\n",
       "    }\n",
       "\n",
       "    .dataframe tbody tr th {\n",
       "        vertical-align: top;\n",
       "    }\n",
       "\n",
       "    .dataframe thead th {\n",
       "        text-align: right;\n",
       "    }\n",
       "</style>\n",
       "<table border=\"1\" class=\"dataframe\">\n",
       "  <thead>\n",
       "    <tr style=\"text-align: right;\">\n",
       "      <th></th>\n",
       "      <th>Gender</th>\n",
       "      <th>Age</th>\n",
       "      <th>Vintage</th>\n",
       "      <th>Credit_Product</th>\n",
       "      <th>Avg_Account_Balance</th>\n",
       "      <th>Is_Active</th>\n",
       "      <th>Occupation_0</th>\n",
       "      <th>Occupation_1</th>\n",
       "      <th>Occupation_2</th>\n",
       "      <th>Occupation_3</th>\n",
       "      <th>...</th>\n",
       "      <th>Region_Code_275</th>\n",
       "      <th>Region_Code_276</th>\n",
       "      <th>Region_Code_277</th>\n",
       "      <th>Region_Code_278</th>\n",
       "      <th>Region_Code_279</th>\n",
       "      <th>Region_Code_280</th>\n",
       "      <th>Region_Code_281</th>\n",
       "      <th>Region_Code_282</th>\n",
       "      <th>Region_Code_283</th>\n",
       "      <th>Region_Code_284</th>\n",
       "    </tr>\n",
       "    <tr>\n",
       "      <th>ID</th>\n",
       "      <th></th>\n",
       "      <th></th>\n",
       "      <th></th>\n",
       "      <th></th>\n",
       "      <th></th>\n",
       "      <th></th>\n",
       "      <th></th>\n",
       "      <th></th>\n",
       "      <th></th>\n",
       "      <th></th>\n",
       "      <th></th>\n",
       "      <th></th>\n",
       "      <th></th>\n",
       "      <th></th>\n",
       "      <th></th>\n",
       "      <th></th>\n",
       "      <th></th>\n",
       "      <th></th>\n",
       "      <th></th>\n",
       "      <th></th>\n",
       "      <th></th>\n",
       "    </tr>\n",
       "  </thead>\n",
       "  <tbody>\n",
       "    <tr>\n",
       "      <th>JTKLWIAU</th>\n",
       "      <td>1</td>\n",
       "      <td>-0.083537</td>\n",
       "      <td>-0.881757</td>\n",
       "      <td>1</td>\n",
       "      <td>-0.512917</td>\n",
       "      <td>0</td>\n",
       "      <td>0</td>\n",
       "      <td>0</td>\n",
       "      <td>1</td>\n",
       "      <td>0</td>\n",
       "      <td>...</td>\n",
       "      <td>0</td>\n",
       "      <td>0</td>\n",
       "      <td>0</td>\n",
       "      <td>0</td>\n",
       "      <td>0</td>\n",
       "      <td>0</td>\n",
       "      <td>0</td>\n",
       "      <td>0</td>\n",
       "      <td>0</td>\n",
       "      <td>0</td>\n",
       "    </tr>\n",
       "    <tr>\n",
       "      <th>RERXJYBZ</th>\n",
       "      <td>1</td>\n",
       "      <td>-0.835219</td>\n",
       "      <td>-0.523243</td>\n",
       "      <td>1</td>\n",
       "      <td>-0.877692</td>\n",
       "      <td>0</td>\n",
       "      <td>0</td>\n",
       "      <td>1</td>\n",
       "      <td>0</td>\n",
       "      <td>0</td>\n",
       "      <td>...</td>\n",
       "      <td>0</td>\n",
       "      <td>0</td>\n",
       "      <td>0</td>\n",
       "      <td>0</td>\n",
       "      <td>0</td>\n",
       "      <td>0</td>\n",
       "      <td>0</td>\n",
       "      <td>0</td>\n",
       "      <td>0</td>\n",
       "      <td>0</td>\n",
       "    </tr>\n",
       "    <tr>\n",
       "      <th>DB9XSGSA</th>\n",
       "      <td>1</td>\n",
       "      <td>2.444850</td>\n",
       "      <td>0.880936</td>\n",
       "      <td>1</td>\n",
       "      <td>1.005048</td>\n",
       "      <td>1</td>\n",
       "      <td>1</td>\n",
       "      <td>0</td>\n",
       "      <td>0</td>\n",
       "      <td>0</td>\n",
       "      <td>...</td>\n",
       "      <td>0</td>\n",
       "      <td>0</td>\n",
       "      <td>0</td>\n",
       "      <td>0</td>\n",
       "      <td>0</td>\n",
       "      <td>0</td>\n",
       "      <td>0</td>\n",
       "      <td>0</td>\n",
       "      <td>1</td>\n",
       "      <td>0</td>\n",
       "    </tr>\n",
       "    <tr>\n",
       "      <th>BPQHYHPL</th>\n",
       "      <td>0</td>\n",
       "      <td>-1.381897</td>\n",
       "      <td>-0.911633</td>\n",
       "      <td>0</td>\n",
       "      <td>-0.923271</td>\n",
       "      <td>0</td>\n",
       "      <td>0</td>\n",
       "      <td>1</td>\n",
       "      <td>0</td>\n",
       "      <td>0</td>\n",
       "      <td>...</td>\n",
       "      <td>0</td>\n",
       "      <td>0</td>\n",
       "      <td>0</td>\n",
       "      <td>0</td>\n",
       "      <td>0</td>\n",
       "      <td>1</td>\n",
       "      <td>0</td>\n",
       "      <td>0</td>\n",
       "      <td>0</td>\n",
       "      <td>0</td>\n",
       "    </tr>\n",
       "    <tr>\n",
       "      <th>5DN5FNHO</th>\n",
       "      <td>1</td>\n",
       "      <td>1.009820</td>\n",
       "      <td>0.163908</td>\n",
       "      <td>0</td>\n",
       "      <td>1.006220</td>\n",
       "      <td>0</td>\n",
       "      <td>0</td>\n",
       "      <td>0</td>\n",
       "      <td>1</td>\n",
       "      <td>0</td>\n",
       "      <td>...</td>\n",
       "      <td>0</td>\n",
       "      <td>0</td>\n",
       "      <td>0</td>\n",
       "      <td>0</td>\n",
       "      <td>0</td>\n",
       "      <td>0</td>\n",
       "      <td>0</td>\n",
       "      <td>0</td>\n",
       "      <td>0</td>\n",
       "      <td>0</td>\n",
       "    </tr>\n",
       "  </tbody>\n",
       "</table>\n",
       "<p>5 rows × 49 columns</p>\n",
       "</div>"
      ],
      "text/plain": [
       "          Gender       Age   Vintage  Credit_Product  Avg_Account_Balance  \\\n",
       "ID                                                                          \n",
       "JTKLWIAU       1 -0.083537 -0.881757               1            -0.512917   \n",
       "RERXJYBZ       1 -0.835219 -0.523243               1            -0.877692   \n",
       "DB9XSGSA       1  2.444850  0.880936               1             1.005048   \n",
       "BPQHYHPL       0 -1.381897 -0.911633               0            -0.923271   \n",
       "5DN5FNHO       1  1.009820  0.163908               0             1.006220   \n",
       "\n",
       "          Is_Active  Occupation_0  Occupation_1  Occupation_2  Occupation_3  \\\n",
       "ID                                                                            \n",
       "JTKLWIAU          0             0             0             1             0   \n",
       "RERXJYBZ          0             0             1             0             0   \n",
       "DB9XSGSA          1             1             0             0             0   \n",
       "BPQHYHPL          0             0             1             0             0   \n",
       "5DN5FNHO          0             0             0             1             0   \n",
       "\n",
       "          ...  Region_Code_275  Region_Code_276  Region_Code_277  \\\n",
       "ID        ...                                                      \n",
       "JTKLWIAU  ...                0                0                0   \n",
       "RERXJYBZ  ...                0                0                0   \n",
       "DB9XSGSA  ...                0                0                0   \n",
       "BPQHYHPL  ...                0                0                0   \n",
       "5DN5FNHO  ...                0                0                0   \n",
       "\n",
       "          Region_Code_278  Region_Code_279  Region_Code_280  Region_Code_281  \\\n",
       "ID                                                                             \n",
       "JTKLWIAU                0                0                0                0   \n",
       "RERXJYBZ                0                0                0                0   \n",
       "DB9XSGSA                0                0                0                0   \n",
       "BPQHYHPL                0                0                1                0   \n",
       "5DN5FNHO                0                0                0                0   \n",
       "\n",
       "          Region_Code_282  Region_Code_283  Region_Code_284  \n",
       "ID                                                           \n",
       "JTKLWIAU                0                0                0  \n",
       "RERXJYBZ                0                0                0  \n",
       "DB9XSGSA                0                1                0  \n",
       "BPQHYHPL                0                0                0  \n",
       "5DN5FNHO                0                0                0  \n",
       "\n",
       "[5 rows x 49 columns]"
      ]
     },
     "execution_count": 114,
     "metadata": {},
     "output_type": "execute_result"
    }
   ],
   "source": [
    "valid_X.head()"
   ]
  },
  {
   "cell_type": "code",
   "execution_count": 115,
   "metadata": {},
   "outputs": [
    {
     "data": {
      "text/html": [
       "<div>\n",
       "<style scoped>\n",
       "    .dataframe tbody tr th:only-of-type {\n",
       "        vertical-align: middle;\n",
       "    }\n",
       "\n",
       "    .dataframe tbody tr th {\n",
       "        vertical-align: top;\n",
       "    }\n",
       "\n",
       "    .dataframe thead th {\n",
       "        text-align: right;\n",
       "    }\n",
       "</style>\n",
       "<table border=\"1\" class=\"dataframe\">\n",
       "  <thead>\n",
       "    <tr style=\"text-align: right;\">\n",
       "      <th></th>\n",
       "      <th>Gender</th>\n",
       "      <th>Age</th>\n",
       "      <th>Vintage</th>\n",
       "      <th>Credit_Product</th>\n",
       "      <th>Avg_Account_Balance</th>\n",
       "      <th>Is_Active</th>\n",
       "      <th>Occupation_0</th>\n",
       "      <th>Occupation_1</th>\n",
       "      <th>Occupation_2</th>\n",
       "      <th>Occupation_3</th>\n",
       "      <th>...</th>\n",
       "      <th>Region_Code_275</th>\n",
       "      <th>Region_Code_276</th>\n",
       "      <th>Region_Code_277</th>\n",
       "      <th>Region_Code_278</th>\n",
       "      <th>Region_Code_279</th>\n",
       "      <th>Region_Code_280</th>\n",
       "      <th>Region_Code_281</th>\n",
       "      <th>Region_Code_282</th>\n",
       "      <th>Region_Code_283</th>\n",
       "      <th>Region_Code_284</th>\n",
       "    </tr>\n",
       "    <tr>\n",
       "      <th>ID</th>\n",
       "      <th></th>\n",
       "      <th></th>\n",
       "      <th></th>\n",
       "      <th></th>\n",
       "      <th></th>\n",
       "      <th></th>\n",
       "      <th></th>\n",
       "      <th></th>\n",
       "      <th></th>\n",
       "      <th></th>\n",
       "      <th></th>\n",
       "      <th></th>\n",
       "      <th></th>\n",
       "      <th></th>\n",
       "      <th></th>\n",
       "      <th></th>\n",
       "      <th></th>\n",
       "      <th></th>\n",
       "      <th></th>\n",
       "      <th></th>\n",
       "      <th></th>\n",
       "    </tr>\n",
       "  </thead>\n",
       "  <tbody>\n",
       "    <tr>\n",
       "      <th>VBENBARO</th>\n",
       "      <td>1</td>\n",
       "      <td>-0.999878</td>\n",
       "      <td>-0.676804</td>\n",
       "      <td>1</td>\n",
       "      <td>-0.452333</td>\n",
       "      <td>0</td>\n",
       "      <td>1</td>\n",
       "      <td>0</td>\n",
       "      <td>0</td>\n",
       "      <td>0</td>\n",
       "      <td>...</td>\n",
       "      <td>0</td>\n",
       "      <td>0</td>\n",
       "      <td>0</td>\n",
       "      <td>0</td>\n",
       "      <td>0</td>\n",
       "      <td>0</td>\n",
       "      <td>0</td>\n",
       "      <td>0</td>\n",
       "      <td>0</td>\n",
       "      <td>0</td>\n",
       "    </tr>\n",
       "    <tr>\n",
       "      <th>CCMEWNKY</th>\n",
       "      <td>1</td>\n",
       "      <td>-0.058563</td>\n",
       "      <td>0.066841</td>\n",
       "      <td>1</td>\n",
       "      <td>-0.240878</td>\n",
       "      <td>0</td>\n",
       "      <td>1</td>\n",
       "      <td>0</td>\n",
       "      <td>0</td>\n",
       "      <td>0</td>\n",
       "      <td>...</td>\n",
       "      <td>0</td>\n",
       "      <td>0</td>\n",
       "      <td>0</td>\n",
       "      <td>0</td>\n",
       "      <td>0</td>\n",
       "      <td>0</td>\n",
       "      <td>0</td>\n",
       "      <td>0</td>\n",
       "      <td>0</td>\n",
       "      <td>0</td>\n",
       "    </tr>\n",
       "    <tr>\n",
       "      <th>VK3KGA9M</th>\n",
       "      <td>1</td>\n",
       "      <td>-0.865404</td>\n",
       "      <td>-1.017641</td>\n",
       "      <td>0</td>\n",
       "      <td>-1.060037</td>\n",
       "      <td>0</td>\n",
       "      <td>0</td>\n",
       "      <td>1</td>\n",
       "      <td>0</td>\n",
       "      <td>0</td>\n",
       "      <td>...</td>\n",
       "      <td>0</td>\n",
       "      <td>0</td>\n",
       "      <td>0</td>\n",
       "      <td>0</td>\n",
       "      <td>0</td>\n",
       "      <td>0</td>\n",
       "      <td>0</td>\n",
       "      <td>0</td>\n",
       "      <td>0</td>\n",
       "      <td>0</td>\n",
       "    </tr>\n",
       "    <tr>\n",
       "      <th>TT8RPZVC</th>\n",
       "      <td>1</td>\n",
       "      <td>-0.999878</td>\n",
       "      <td>-0.428922</td>\n",
       "      <td>0</td>\n",
       "      <td>-0.307219</td>\n",
       "      <td>0</td>\n",
       "      <td>1</td>\n",
       "      <td>0</td>\n",
       "      <td>0</td>\n",
       "      <td>0</td>\n",
       "      <td>...</td>\n",
       "      <td>0</td>\n",
       "      <td>0</td>\n",
       "      <td>0</td>\n",
       "      <td>0</td>\n",
       "      <td>0</td>\n",
       "      <td>0</td>\n",
       "      <td>0</td>\n",
       "      <td>0</td>\n",
       "      <td>0</td>\n",
       "      <td>0</td>\n",
       "    </tr>\n",
       "    <tr>\n",
       "      <th>SHQZEYTZ</th>\n",
       "      <td>0</td>\n",
       "      <td>-0.999878</td>\n",
       "      <td>-0.862715</td>\n",
       "      <td>0</td>\n",
       "      <td>-0.550781</td>\n",
       "      <td>0</td>\n",
       "      <td>1</td>\n",
       "      <td>0</td>\n",
       "      <td>0</td>\n",
       "      <td>0</td>\n",
       "      <td>...</td>\n",
       "      <td>0</td>\n",
       "      <td>0</td>\n",
       "      <td>0</td>\n",
       "      <td>0</td>\n",
       "      <td>0</td>\n",
       "      <td>0</td>\n",
       "      <td>0</td>\n",
       "      <td>0</td>\n",
       "      <td>0</td>\n",
       "      <td>0</td>\n",
       "    </tr>\n",
       "  </tbody>\n",
       "</table>\n",
       "<p>5 rows × 49 columns</p>\n",
       "</div>"
      ],
      "text/plain": [
       "          Gender       Age   Vintage  Credit_Product  Avg_Account_Balance  \\\n",
       "ID                                                                          \n",
       "VBENBARO       1 -0.999878 -0.676804               1            -0.452333   \n",
       "CCMEWNKY       1 -0.058563  0.066841               1            -0.240878   \n",
       "VK3KGA9M       1 -0.865404 -1.017641               0            -1.060037   \n",
       "TT8RPZVC       1 -0.999878 -0.428922               0            -0.307219   \n",
       "SHQZEYTZ       0 -0.999878 -0.862715               0            -0.550781   \n",
       "\n",
       "          Is_Active  Occupation_0  Occupation_1  Occupation_2  Occupation_3  \\\n",
       "ID                                                                            \n",
       "VBENBARO          0             1             0             0             0   \n",
       "CCMEWNKY          0             1             0             0             0   \n",
       "VK3KGA9M          0             0             1             0             0   \n",
       "TT8RPZVC          0             1             0             0             0   \n",
       "SHQZEYTZ          0             1             0             0             0   \n",
       "\n",
       "          ...  Region_Code_275  Region_Code_276  Region_Code_277  \\\n",
       "ID        ...                                                      \n",
       "VBENBARO  ...                0                0                0   \n",
       "CCMEWNKY  ...                0                0                0   \n",
       "VK3KGA9M  ...                0                0                0   \n",
       "TT8RPZVC  ...                0                0                0   \n",
       "SHQZEYTZ  ...                0                0                0   \n",
       "\n",
       "          Region_Code_278  Region_Code_279  Region_Code_280  Region_Code_281  \\\n",
       "ID                                                                             \n",
       "VBENBARO                0                0                0                0   \n",
       "CCMEWNKY                0                0                0                0   \n",
       "VK3KGA9M                0                0                0                0   \n",
       "TT8RPZVC                0                0                0                0   \n",
       "SHQZEYTZ                0                0                0                0   \n",
       "\n",
       "          Region_Code_282  Region_Code_283  Region_Code_284  \n",
       "ID                                                           \n",
       "VBENBARO                0                0                0  \n",
       "CCMEWNKY                0                0                0  \n",
       "VK3KGA9M                0                0                0  \n",
       "TT8RPZVC                0                0                0  \n",
       "SHQZEYTZ                0                0                0  \n",
       "\n",
       "[5 rows x 49 columns]"
      ]
     },
     "execution_count": 115,
     "metadata": {},
     "output_type": "execute_result"
    }
   ],
   "source": [
    " test.head()"
   ]
  },
  {
   "cell_type": "raw",
   "metadata": {},
   "source": [
    "\n",
    "submission = pd.read_csv('sample_submission_eyYijxG.csv')\n",
    "final_predictions = RFCClassifier.predict(test)\n",
    "submission['Is_Lead'] = final_predictions\n",
    "submission.to_csv('my_submission_RF2.csv', index=False)\n"
   ]
  },
  {
   "cell_type": "code",
   "execution_count": null,
   "metadata": {},
   "outputs": [],
   "source": []
  },
  {
   "cell_type": "code",
   "execution_count": 116,
   "metadata": {},
   "outputs": [],
   "source": [
    "\n",
    "submission = pd.read_csv('sample_submission_eyYijxG.csv')\n",
    "final_predictions = RFCClassifier.predict_proba(test)[:,1]\n",
    "#final_predictions = RFCClassifier.predict(test)\n",
    "submission['Is_Lead'] = final_predictions\n",
    "submission.to_csv('my_submission_RF2_os_pp2.csv', index=False)"
   ]
  },
  {
   "cell_type": "code",
   "execution_count": 117,
   "metadata": {},
   "outputs": [
    {
     "data": {
      "text/plain": [
       "(array([0.01388889, 0.46693723, 0.08522727, ..., 0.1473545 , 0.92301587,\n",
       "        0.07228956]),\n",
       " 0.000000    3198\n",
       " 1.000000     786\n",
       " 0.033333     496\n",
       " 0.016667     363\n",
       " 0.011111     356\n",
       "             ... \n",
       " 0.728522       1\n",
       " 0.168300       1\n",
       " 0.342670       1\n",
       " 0.161328       1\n",
       " 0.043224       1\n",
       " Name: Is_Lead, Length: 77028, dtype: int64)"
      ]
     },
     "execution_count": 117,
     "metadata": {},
     "output_type": "execute_result"
    }
   ],
   "source": [
    "submission[\"Is_Lead\"].unique(), submission[\"Is_Lead\"].value_counts()"
   ]
  },
  {
   "cell_type": "code",
   "execution_count": 118,
   "metadata": {},
   "outputs": [],
   "source": [
    "#!pip install lightgbm"
   ]
  },
  {
   "cell_type": "code",
   "execution_count": 119,
   "metadata": {},
   "outputs": [],
   "source": [
    "from lightgbm import LGBMModel,LGBMClassifier"
   ]
  },
  {
   "cell_type": "code",
   "execution_count": 120,
   "metadata": {},
   "outputs": [
    {
     "name": "stdout",
     "output_type": "stream",
     "text": [
      "Training until validation scores don't improve for 200 rounds\n",
      "[1000]\tvalid_0's auc: 0.856382\tvalid_0's binary_logloss: 0.457955\n",
      "[2000]\tvalid_0's auc: 0.860208\tvalid_0's binary_logloss: 0.453577\n",
      "[3000]\tvalid_0's auc: 0.86321\tvalid_0's binary_logloss: 0.44984\n",
      "[4000]\tvalid_0's auc: 0.86568\tvalid_0's binary_logloss: 0.446604\n",
      "[5000]\tvalid_0's auc: 0.867761\tvalid_0's binary_logloss: 0.443719\n",
      "[6000]\tvalid_0's auc: 0.869769\tvalid_0's binary_logloss: 0.440974\n",
      "[7000]\tvalid_0's auc: 0.87153\tvalid_0's binary_logloss: 0.438463\n",
      "[8000]\tvalid_0's auc: 0.873257\tvalid_0's binary_logloss: 0.435983\n",
      "[9000]\tvalid_0's auc: 0.874734\tvalid_0's binary_logloss: 0.433789\n",
      "[10000]\tvalid_0's auc: 0.876083\tvalid_0's binary_logloss: 0.431797\n",
      "Did not meet early stopping. Best iteration is:\n",
      "[10000]\tvalid_0's auc: 0.876083\tvalid_0's binary_logloss: 0.431797\n",
      "Train Confusion matrix :\n",
      " [[127338  22611]\n",
      " [ 22393  80926]]\n",
      "Accuracy Score : 0.8223068054392975\n",
      "ROC_AUC Score : 0.8162361079517682\n",
      "classification report :\n",
      "               precision    recall  f1-score   support\n",
      "\n",
      "         0.0       0.85      0.85      0.85    149949\n",
      "         1.0       0.78      0.78      0.78    103319\n",
      "\n",
      "    accuracy                           0.82    253268\n",
      "   macro avg       0.82      0.82      0.82    253268\n",
      "weighted avg       0.82      0.82      0.82    253268\n",
      "\n",
      "Validation Confusion matrix :\n",
      " [[31174  6314]\n",
      " [ 6060 19770]]\n",
      "Accuracy Score : 0.8045737389052087\n",
      "ROC_AUC Score : 0.7984809262076524\n",
      "classification report :\n",
      "               precision    recall  f1-score   support\n",
      "\n",
      "         0.0       0.84      0.83      0.83     37488\n",
      "         1.0       0.76      0.77      0.76     25830\n",
      "\n",
      "    accuracy                           0.80     63318\n",
      "   macro avg       0.80      0.80      0.80     63318\n",
      "weighted avg       0.80      0.80      0.80     63318\n",
      "\n"
     ]
    }
   ],
   "source": [
    "params = {'n_estimators': 10000, 'n_jobs': -1, 'random_state': 2, \n",
    "          'learning_rate': 0.014564209621859385, 'colsample_bytree': 0.48762749309989595}\n",
    "lgbmodel = LGBMClassifier(**params)\n",
    "lgbmodel.fit(train_X, train_y, eval_set =[(valid_X, valid_y)],  \n",
    "          early_stopping_rounds=200, verbose=1000, eval_metric='auc')\n",
    "\n",
    "pred_train = lgbmodel.predict(train_X)\n",
    "\n",
    "print(\"Train Confusion matrix :\\n\",confusion_matrix(train_y,pred_train))\n",
    "print(\"Accuracy Score :\",accuracy_score(train_y,pred_train))\n",
    "print(\"ROC_AUC Score :\",roc_auc_score(train_y,pred_train))\n",
    "print(\"classification report :\\n\",classification_report(train_y,pred_train))\n",
    "\n",
    "pred_valid = lgbmodel.predict(valid_X)\n",
    "\n",
    "print(\"Validation Confusion matrix :\\n\",confusion_matrix(valid_y,pred_valid))\n",
    "print(\"Accuracy Score :\",accuracy_score(valid_y,pred_valid))\n",
    "print(\"ROC_AUC Score :\",roc_auc_score(valid_y,pred_valid))\n",
    "print(\"classification report :\\n\",classification_report(valid_y,pred_valid))"
   ]
  },
  {
   "cell_type": "code",
   "execution_count": 121,
   "metadata": {},
   "outputs": [],
   "source": [
    "submission = pd.read_csv('sample_submission_eyYijxG.csv')\n",
    "final_predictions = lgbmodel.predict_proba(test)[:,1]\n",
    "submission['Is_Lead'] = final_predictions\n",
    "submission.to_csv('my_submission_lgb_os_pp2.csv', index=False)"
   ]
  },
  {
   "cell_type": "code",
   "execution_count": 122,
   "metadata": {},
   "outputs": [
    {
     "data": {
      "text/plain": [
       "(array([0.09080471, 0.49695205, 0.05690124, ..., 0.12688264, 0.32022971,\n",
       "        0.13809187]),\n",
       " 0.096099    3\n",
       " 0.072262    3\n",
       " 0.109057    3\n",
       " 0.069311    3\n",
       " 0.045021    3\n",
       "            ..\n",
       " 0.081472    1\n",
       " 0.738618    1\n",
       " 0.788883    1\n",
       " 0.078090    1\n",
       " 0.060159    1\n",
       " Name: Is_Lead, Length: 104714, dtype: int64)"
      ]
     },
     "execution_count": 122,
     "metadata": {},
     "output_type": "execute_result"
    }
   ],
   "source": [
    "submission[\"Is_Lead\"].unique(), submission[\"Is_Lead\"].value_counts()"
   ]
  }
 ],
 "metadata": {
  "kernelspec": {
   "display_name": "Python 3",
   "language": "python",
   "name": "python3"
  },
  "language_info": {
   "codemirror_mode": {
    "name": "ipython",
    "version": 3
   },
   "file_extension": ".py",
   "mimetype": "text/x-python",
   "name": "python",
   "nbconvert_exporter": "python",
   "pygments_lexer": "ipython3",
   "version": "3.8.5"
  }
 },
 "nbformat": 4,
 "nbformat_minor": 4
}
